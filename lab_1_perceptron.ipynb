{
 "cells": [
  {
   "cell_type": "markdown",
   "metadata": {
    "id": "DVL7_bgmIAPR"
   },
   "source": [
    "# Perceptron Lab\n",
    "\n",
    "\n",
    "\n"
   ]
  },
  {
   "cell_type": "code",
   "execution_count": 1,
   "metadata": {
    "id": "6ZbYjZZZ_yLV"
   },
   "outputs": [],
   "source": [
    "from sklearn.base import BaseEstimator, ClassifierMixin\n",
    "from sklearn.linear_model import Perceptron\n",
    "import numpy as np\n",
    "import matplotlib.pyplot as plt\n",
    "from scipy.io import arff\n",
    "import pandas as pd\n",
    "import copy"
   ]
  },
  {
   "cell_type": "markdown",
   "metadata": {
    "id": "sCcEPx5VIORj"
   },
   "source": [
    "## 1. (40%) Correctly implement and submit your own code for the perceptron learning algorithm. \n",
    "\n",
    "### Code requirements\n",
    "- Shuffle the data each epoch.\n",
    "- A way to create a random train/test split. Write your own. In the future you can use the scikit-learn version if you want.\n",
    "- Use Stochastic/On-line training updates: Iterate and update weights after each training instance (i.e. do not attempt batch updates)\n",
    "- Implement a stopping criteria: when your model has trained for a number of epochs with no significant improvement in accuracy, stop training. Note that the weights/accuracy do not usually change monotonically.\n",
    "- Use your perceptron to solve the Debug data. We provide you with several parameters, and you should be able to replicate our results every time. When you are confident it is correct, run your perceptron on the Evaluation data with the same parameters, and include your final weights in your report PDF."
   ]
  },
  {
   "cell_type": "code",
   "execution_count": 128,
   "metadata": {
    "id": "_a2KSZ_7AN0G"
   },
   "outputs": [],
   "source": [
    "class PerceptronClassifier(BaseEstimator,ClassifierMixin):\n",
    "\n",
    "    def __init__(self, lr=.1, shuffle=True):\n",
    "        \"\"\" \n",
    "            Initialize class with chosen hyperparameters.\n",
    "        Args:\n",
    "            lr (float): A learning rate / step size.\n",
    "            shuffle: Whether to shuffle the training data each epoch. DO NOT \n",
    "            SHUFFLE for evaluation / debug datasets.\n",
    "        \"\"\"\n",
    "        self.lr = lr\n",
    "        self.shuffle = shuffle\n",
    "\n",
    "    def fit(self, X, y, initial_weights=None, set_epochs=None, unchanged_threshold=2):\n",
    "        \"\"\" \n",
    "            Fit the data; run the algorithm and adjust the weights to find a \n",
    "            good solution\n",
    "        Args:\n",
    "            X (array-like): A 2D numpy array with the training data, excluding\n",
    "            targets\n",
    "            y (array-like): A 2D numpy array with the training targets\n",
    "            initial_weights (array-like): allows the user to provide initial \n",
    "            weights\n",
    "        Returns:\n",
    "            self: this allows this to be chained, e.g. model.fit(X,y).predict(X_test)\n",
    "        \"\"\"\n",
    "#         self.initial_weights = self.initialize_weights() if not initial_weights else initial_weights\n",
    "        self.initial_weights = initial_weights\n",
    "        self.misclassifications = []\n",
    "        weights = self.initial_weights\n",
    "        bias = np.ones((X.shape[0],1))\n",
    "        inputs = np.hstack((X,bias))\n",
    "        done = False\n",
    "        epoch = 1\n",
    "        not_changed = 0\n",
    "        scores = []\n",
    "        while(not done):\n",
    "            for i, row in enumerate(inputs):\n",
    "                net = 0.\n",
    "                for j, inp in enumerate(row):\n",
    "                    net += inp*weights[j]\n",
    "#                 print(f\"NET={net} TARGET={float(y[i])}\")\n",
    "                if net <= 0.:\n",
    "                    output = 0\n",
    "                else:\n",
    "                    output = 1\n",
    "                if output != float(y[i]):\n",
    "                    for j, w in enumerate(weights):\n",
    "                        delta = self.lr*(float(y[i]) - output)*row[j]\n",
    "                        weights[j] += delta\n",
    "                self.weights = weights\n",
    "            score = self.score(X, y)\n",
    "            misclassification = 1 - score\n",
    "            self.misclassifications.append(misclassification)\n",
    "#             print(score)\n",
    "            scores.append(score)\n",
    "            if len(scores) >= 2:\n",
    "                if scores[-1] == scores[-2]:\n",
    "                    not_changed += 1\n",
    "                else:\n",
    "                    not_changed = 0\n",
    "            else:\n",
    "                not_changed = 0\n",
    "            if not_changed == unchanged_threshold:\n",
    "                done = True\n",
    "            epoch += 1\n",
    "            if set_epochs is not None and epoch > set_epochs:\n",
    "                done = True\n",
    "            if self.shuffle:\n",
    "                X, y = self._shuffle_data(X, y)\n",
    "                bias = np.ones((X.shape[0],1))\n",
    "                inputs = np.hstack((X,bias))\n",
    "        print(f\"Took {epoch} Epochs\")\n",
    "        return self\n",
    "\n",
    "    def predict(self, X):\n",
    "        \"\"\" \n",
    "            Predict all classes for a dataset X\n",
    "        Args:\n",
    "            X (array-like): A 2D numpy array with the training data, excluding \n",
    "            targets\n",
    "        Returns:\n",
    "            array, shape (n_samples,)\n",
    "                Predicted target values per element in X.\n",
    "        \"\"\"\n",
    "#         print(\"WEIGHTS:\", self.weights)\n",
    "        bias = np.ones((X.shape[0],1))\n",
    "        inputs = np.hstack((X,bias))\n",
    "\n",
    "        predictions = np.zeros(X.shape[0])\n",
    "        for idx, row in enumerate(inputs):\n",
    "            net = 0\n",
    "            for j, inp in enumerate(row):\n",
    "                net += inp*self.weights[j]\n",
    "            if net <= 0:\n",
    "                predictions[idx] = 0\n",
    "            else:\n",
    "                predictions[idx] = 1\n",
    "        return predictions\n",
    "            \n",
    "                \n",
    "\n",
    "    def initialize_weights(self):\n",
    "        \"\"\" Initialize weights for perceptron. Don't forget the bias!\n",
    "        Returns:\n",
    "        \"\"\"\n",
    "\n",
    "        return [0]\n",
    "\n",
    "    def score(self, X, y):\n",
    "        \"\"\" \n",
    "            Return accuracy of model on a given dataset. Must implement own \n",
    "            score function.\n",
    "        Args:\n",
    "            X (array-like): A 2D numpy array with data, excluding targets\n",
    "            y (array-like): A 2D numpy array with targets\n",
    "        Returns:\n",
    "            score : float\n",
    "                Mean accuracy of self.predict(X) wrt. y.\n",
    "        \"\"\"\n",
    "        predictions = self.predict(X)\n",
    "        num_correct = 0\n",
    "        total = X.shape[0]\n",
    "        for idx, pred in enumerate(predictions):\n",
    "            if pred == float(y[idx]):\n",
    "                num_correct += 1\n",
    "        score = num_correct/total\n",
    "#         print(\"SCORE:\", score)\n",
    "        return score\n",
    "\n",
    "    def _shuffle_data(self, X, y):\n",
    "        \"\"\" \n",
    "            Shuffle the data! This _ prefix suggests that this method should \n",
    "            only be called internally.\n",
    "            It might be easier to concatenate X & y and shuffle a single 2D \n",
    "            array, rather than shuffling X and y exactly the same way, \n",
    "            independently.\n",
    "        \"\"\"\n",
    "        shuffled = np.concatenate((X, np.atleast_2d(y).T), 1)\n",
    "        np.random.shuffle(shuffled)\n",
    "        new_X, new_y = np.split(shuffled,  [-1], axis=1)\n",
    "        return new_X, new_y.flatten()\n",
    "    \n",
    "    def train_test_split(self, X, y, split):\n",
    "        X, y = self._shuffle_data(X, y)\n",
    "#         print(X.shape)\n",
    "        split_index = int(X.shape[0]*split)\n",
    "        train_X = X[:split_index, :]\n",
    "        train_y = y[:split_index]\n",
    "        test_X = X[split_index:, :]\n",
    "        test_y = y[split_index:]\n",
    "        return train_X, train_y, test_X, test_y\n",
    "\n",
    "    ### Not required by sk-learn but required by us for grading. Returns the weights.\n",
    "    def get_weights(self):\n",
    "        return self.weights\n",
    "    \n",
    "    def get_misclassifications(self):\n",
    "        return self.misclassifications"
   ]
  },
  {
   "cell_type": "markdown",
   "metadata": {
    "id": "KibCIXIThpbE"
   },
   "source": [
    "## 1.1 Debug \n",
    "\n",
    "Debug your model by running it on the [debug dataset](https://raw.githubusercontent.com/cs472ta/CS472/master/datasets/linsep2nonorigin.arff)\n",
    "\n",
    "Parameters:\n",
    "\n",
    "Learning Rate = 0.1\\\n",
    "Deterministic = 10 [This means run it 10 epochs and should be the same everytime you run it]\\\n",
    "Shuffle = False\\\n",
    "Initial Weights = All zeros\n",
    "\n",
    "---\n",
    "\n",
    "Expected Results\n",
    "\n",
    "Accuray = [0.88]\\\n",
    "Final Weights = [-0.23  0.18 -0.1 ]"
   ]
  },
  {
   "cell_type": "code",
   "execution_count": 8,
   "metadata": {},
   "outputs": [
    {
     "name": "stdout",
     "output_type": "stream",
     "text": [
      "  % Total    % Received % Xferd  Average Speed   Time    Time     Time  Current\n",
      "                                 Dload  Upload   Total   Spent    Left  Speed\n",
      "100   197  100   197    0     0    701      0 --:--:-- --:--:-- --:--:--   701\n"
     ]
    }
   ],
   "source": [
    "!curl https://raw.githubusercontent.com/cs472ta/CS472/master/datasets/linsep2nonorigin.arff --output perceptron_debug.arff"
   ]
  },
  {
   "cell_type": "code",
   "execution_count": 45,
   "metadata": {
    "id": "KgAyy82gixIF",
    "scrolled": true
   },
   "outputs": [
    {
     "name": "stdout",
     "output_type": "stream",
     "text": [
      "Took 11 Epochs\n",
      "[-0.23  0.18 -0.1 ]\n",
      "0.875\n"
     ]
    }
   ],
   "source": [
    "# Load debug data\n",
    "data = arff.loadarff('perceptron_debug.arff')\n",
    "df = pd.DataFrame(data[0])\n",
    "# display(df)\n",
    "np_inputs = np.array(df[['a1', 'a2']])\n",
    "np_targets = np.array(df['class'])\n",
    "# print(np_inputs)\n",
    "# print(np_targets)\n",
    "# Train on debug data\n",
    "classifier = PerceptronClassifier(lr=.1, shuffle=False)\n",
    "# classifier._shuffle_data(np_inputs, np_targets)\n",
    "classifier.fit(np_inputs, np_targets, np.array([0.,0.,0.]), set_epochs=10)\n",
    "\n",
    "# Check weights\n",
    "print(classifier.get_weights())\n",
    "print(classifier.score(np_inputs, np_targets))"
   ]
  },
  {
   "cell_type": "markdown",
   "metadata": {
    "id": "kY3VNB1ui03N"
   },
   "source": [
    "## 1.2 Evaluation\n",
    "\n",
    "We will evaluate your model based on it's performance on the [evaluation dataset](https://raw.githubusercontent.com/cs472ta/CS472/master/datasets/data_banknote_authentication.arff)"
   ]
  },
  {
   "cell_type": "code",
   "execution_count": 195,
   "metadata": {},
   "outputs": [
    {
     "name": "stdout",
     "output_type": "stream",
     "text": [
      "  % Total    % Received % Xferd  Average Speed   Time    Time     Time  Current\n",
      "                                 Dload  Upload   Total   Spent    Left  Speed\n",
      "100 46685  100 46685    0     0  85818      0 --:--:-- --:--:-- --:--:-- 85818   0     0    0     0      0      0 --:--:-- --:--:-- --:--:--     0\n"
     ]
    }
   ],
   "source": [
    "!curl https://raw.githubusercontent.com/cs472ta/CS472/master/datasets/data_banknote_authentication.arff --output perceptron_eval.arff"
   ]
  },
  {
   "cell_type": "code",
   "execution_count": 50,
   "metadata": {
    "id": "2yAxA78QjDh2"
   },
   "outputs": [
    {
     "name": "stdout",
     "output_type": "stream",
     "text": [
      "Took 62 Epochs\n",
      "[-8.26501742 -5.999081   -6.5894754  -0.4859535  11.4       ]\n",
      "0.9919825072886297\n"
     ]
    }
   ],
   "source": [
    "# Load evaluation data\n",
    "data = arff.loadarff('perceptron_eval.arff')\n",
    "df = pd.DataFrame(data[0])\n",
    "# display(df)\n",
    "np_inputs = np.array(df[['variance_wavelet', 'skewness_wavelet', 'curtosis_wavelet', 'entropy_wavelet']])\n",
    "np_targets = np.array(df['class'])\n",
    "# Train on evaluation data\n",
    "classifier = PerceptronClassifier(lr=.1, shuffle=False)\n",
    "classifier.fit(np_inputs, np_targets, np.array([0., 0., 0., 0., 0.]))\n",
    "\n",
    "# Print weights\n",
    "print(classifier.get_weights())\n",
    "print(classifier.score(np_inputs, np_targets))"
   ]
  },
  {
   "cell_type": "markdown",
   "metadata": {
    "id": "9vWiTdlbR2Xh"
   },
   "source": [
    "## 2. (10%) Create 2 datasets\n",
    "\n",
    "- Both with 8 instances using 2 real valued inputs (ranging between -1 and 1) with 4 instances from each class. \n",
    "- One data set should be linearly separable and the other not.\n",
    "- Graph each dataset\n",
    "\n",
    "![Linearly Separable Data](https://raw.githubusercontent.com/rmorain/CS472-1/master/images/perceptron/linearly_separable.png)\n",
    "\n",
    "![Not Linearly Separable](https://raw.githubusercontent.com/rmorain/CS472-1/master/images/perceptron/not_linearly_separable.png)"
   ]
  },
  {
   "cell_type": "code",
   "execution_count": 46,
   "metadata": {
    "id": "4SSoasDQSKXb"
   },
   "outputs": [
    {
     "data": {
      "image/png": "[encoded data removed]",
      "text/plain": [
       "<Figure size 432x288 with 1 Axes>"
      ]
     },
     "metadata": {
      "needs_background": "light"
     },
     "output_type": "display_data"
    },
    {
     "data": {
      "image/png": "[encoded data removed]",
      "text/plain": [
       "<Figure size 432x288 with 1 Axes>"
      ]
     },
     "metadata": {
      "needs_background": "light"
     },
     "output_type": "display_data"
    }
   ],
   "source": [
    "# Create 2 datasets\n",
    "lin_sep_dataset = np.array([[-.2, -.2, 0], [-.1, -.4, 0], [-.3, -.6, 0], [-.7, -.8, 0], \n",
    "                            [.2, .2, 1], [.1, .4, 1], [.3, .6, 1], [.7, .8, 1]])\n",
    "lin_color = ['red' if l == 0 else 'blue' for l in lin_sep_dataset[:,2]]\n",
    "plt.title('Linearly Seperable Dataset')\n",
    "plt.xlabel('How much someone likes broccoli')\n",
    "plt.ylabel('How cool someone is')\n",
    "plt.scatter(lin_sep_dataset[:, 0], lin_sep_dataset[:, 1], color=lin_color)\n",
    "plt.show()\n",
    "\n",
    "other_dataset = np.array([[-.2, .1, 0], [.1, .2, 1], [.3, .4, 0], [-.8, -.9, 1], \n",
    "                          [-.3, -.6, 0], [.6, -.2, 0], [-.3, .9, 1], [-.4, .4, 1]])\n",
    "other_color = ['red' if l == 0 else 'blue' for l in lin_sep_dataset[:,2]]\n",
    "plt.title(\"NonLinearly Seperable Dataset\")\n",
    "plt.xlabel('How often BYU dissapoints fans')\n",
    "plt.ylabel('How often people cheer for BYU')\n",
    "plt.scatter(other_dataset[:, 0], other_dataset[:, 1], color=other_color)\n",
    "plt.show()"
   ]
  },
  {
   "cell_type": "markdown",
   "metadata": {
    "id": "SIRG42TgSR4x"
   },
   "source": [
    "## 3. (10%) Train on both sets with your perceptron code.\n",
    "\n",
    "- Use a couple different learning rates.\n"
   ]
  },
  {
   "cell_type": "code",
   "execution_count": 79,
   "metadata": {
    "id": "KBGUn43ASiXW"
   },
   "outputs": [
    {
     "name": "stdout",
     "output_type": "stream",
     "text": [
      "Took 8 Epochs\n",
      "Linear\n",
      "[0.03 0.06 0.  ]\n",
      "1.0\n",
      "----------------\n",
      "Took 550 Epochs\n",
      "NonLinear\n",
      "[-0.26  0.06  0.1 ]\n",
      "0.625\n"
     ]
    }
   ],
   "source": [
    "# Train on each dataset\n",
    "# Linear Dataset\n",
    "np_inputs = lin_sep_dataset[:, :2]\n",
    "np_targets = lin_sep_dataset[:, 2]\n",
    "lin_classifier = PerceptronClassifier(lr=.1, shuffle=True)\n",
    "lin_classifier.fit(np_inputs, np_targets, np.array([0., 0., 0.]))\n",
    "print(\"Linear\")\n",
    "print(lin_classifier.get_weights())\n",
    "print(lin_classifier.score(np_inputs, np_targets))\n",
    "print(\"----------------\")\n",
    "# NonLinear Dataset\n",
    "np_inputs = other_dataset[:, :2]\n",
    "np_targets = other_dataset[:, 2]\n",
    "non_lin_classifier = PerceptronClassifier(lr=.1, shuffle=True)\n",
    "non_lin_classifier.fit(np_inputs, np_targets, np.array([0., 0., 0.]))\n",
    "print(\"NonLinear\")\n",
    "print(non_lin_classifier.get_weights())\n",
    "print(non_lin_classifier.score(np_inputs, np_targets))\n"
   ]
  },
  {
   "cell_type": "markdown",
   "metadata": {
    "id": "mOteTlV6S0bq"
   },
   "source": [
    "Discuss the effect of learning rate, including how many epochs are completed before stopping. (For these cases, learning rate should have minimal effect, unlike with the Backpropagation lab.)\n"
   ]
  },
  {
   "cell_type": "markdown",
   "metadata": {
    "id": "qmq9GSbJS8k2"
   },
   "source": [
    "*Discuss learning rate here*\n",
    "\n",
    "The learning rate really didn't have much effect on the linear dataset (I suspect because the points are very seperated) because no matter how large the step was in the weights it essentially started out correct. For the nonlinear dataset it was very random what effect the learning rate had because it was basically stepping randomly around these points and would get stuck. The learning rate effects how large the perceptron steps when it makes changes to its weights, if the learning rate is very low it can get stuck in local minima without being able to step out, but if the learning rate is too high it steps around to wide and can miss the global minima.\n"
   ]
  },
  {
   "cell_type": "markdown",
   "metadata": {
    "id": "v19fpixqTe-7"
   },
   "source": [
    "## 4. (10%) Graph the instances and decision line for the two cases above (with LR=.1)\n",
    " \n",
    " - For all graphs always label the axes!"
   ]
  },
  {
   "cell_type": "code",
   "execution_count": 80,
   "metadata": {
    "id": "ZCPFUAGTS2sX"
   },
   "outputs": [
    {
     "data": {
      "image/png": "[encoded data removed]",
      "text/plain": [
       "<Figure size 432x288 with 1 Axes>"
      ]
     },
     "metadata": {
      "needs_background": "light"
     },
     "output_type": "display_data"
    },
    {
     "data": {
      "image/png": "[encoded data removed]",
      "text/plain": [
       "<Figure size 432x288 with 1 Axes>"
      ]
     },
     "metadata": {
      "needs_background": "light"
     },
     "output_type": "display_data"
    }
   ],
   "source": [
    "# Graph decision line\n",
    "# LINEAR\n",
    "w1, w2, b = lin_classifier.get_weights()\n",
    "x_1 = np.linspace(-1,1,100)\n",
    "x_2 = (-w1/w2)*x_1 - b/w2\n",
    "plt.plot(x_1, x_2)\n",
    "lin_color = ['red' if l == 0 else 'blue' for l in lin_sep_dataset[:,2]]\n",
    "plt.title('Linearly Seperable Dataset')\n",
    "plt.xlabel('How much someone likes broccoli')\n",
    "plt.ylabel('How cool someone is')\n",
    "plt.scatter(lin_sep_dataset[:, 0], lin_sep_dataset[:, 1], color=lin_color)\n",
    "plt.show()\n",
    "\n",
    "# NON-LINEAR\n",
    "w1, w2, b = non_lin_classifier.get_weights()\n",
    "x_1 = np.linspace(-1,1,100)\n",
    "x_2 = (-w1/w2)*x_1 - b/w2\n",
    "other_color = ['red' if l == 0 else 'blue' for l in lin_sep_dataset[:,2]]\n",
    "plt.title(\"NonLinearly Seperable Dataset\")\n",
    "plt.xlabel('How often BYU dissapoints fans')\n",
    "plt.ylabel('How often people cheer for BYU')\n",
    "plt.scatter(other_dataset[:, 0], other_dataset[:, 1], color=other_color)\n",
    "plt.plot(x_1, x_2)\n",
    "plt.show()"
   ]
  },
  {
   "cell_type": "markdown",
   "metadata": {
    "id": "0ySvhd1lUGSe"
   },
   "source": [
    "## 5. (20%) Use your perceptron code to learn this version of the [voting data set](https://raw.githubusercontent.com/rmorain/CS472-1/master/datasets/perceptron/voting-dataset.arff).\n",
    "\n",
    "This particular task is an edited version of the standard voting set, where we have replaced all the “don’t know” values with the most common value for the particular attribute.  \n",
    "\n",
    "### 5.1 Create a table that reports the final training and test set accuracy and the number of epochs for each trial.\n",
    "\n",
    "- Try it five times with different random 70/30 splits. \n",
    "- Use your own code to randomize and make splits. \n",
    "- Report the average of these values for the 5 trials in the table.  \n",
    "\n",
    "| Trial | Training Accuracy | Test accuracy | Number of epochs |\n",
    "| --- | --- | --- | --- |\n",
    "| 1 | .969 | .950 | 119 |\n",
    "| 2 | .972 | .935 | 80 |\n",
    "| 3 | .957 | .964 | 42 |\n",
    "| 4 | .975 | .942 | 22 |\n",
    "| 5 | .963 | .950 | 314 |\n",
    "\n",
    "*- As a rough sanity check, typical Perceptron test accuracies for the voting data set are 90%-98%.*\n"
   ]
  },
  {
   "cell_type": "code",
   "execution_count": 82,
   "metadata": {},
   "outputs": [
    {
     "name": "stdout",
     "output_type": "stream",
     "text": [
      "  % Total    % Received % Xferd  Average Speed   Time    Time     Time  Current\n",
      "                                 Dload  Upload   Total   Spent    Left  Speed\n",
      "100 43825  100 43825    0     0  59303      0 --:--:-- --:--:-- --:--:-- 59303\n"
     ]
    }
   ],
   "source": [
    "!curl https://raw.githubusercontent.com/rmorain/CS472-1/master/datasets/perceptron/voting-dataset.arff --output voting-dataset.arff"
   ]
  },
  {
   "cell_type": "code",
   "execution_count": 131,
   "metadata": {
    "id": "Romyl4G8Trki"
   },
   "outputs": [
    {
     "data": {
      "text/html": [
       "<div>\n",
       "<style scoped>\n",
       "    .dataframe tbody tr th:only-of-type {\n",
       "        vertical-align: middle;\n",
       "    }\n",
       "\n",
       "    .dataframe tbody tr th {\n",
       "        vertical-align: top;\n",
       "    }\n",
       "\n",
       "    .dataframe thead th {\n",
       "        text-align: right;\n",
       "    }\n",
       "</style>\n",
       "<table border=\"1\" class=\"dataframe\">\n",
       "  <thead>\n",
       "    <tr style=\"text-align: right;\">\n",
       "      <th></th>\n",
       "      <th>handicapped-infants</th>\n",
       "      <th>water-project-cost-sharing</th>\n",
       "      <th>adoption-of-the-budget-resolution</th>\n",
       "      <th>physician-fee-freeze</th>\n",
       "      <th>el-salvador-aid</th>\n",
       "      <th>religious-groups-in-schools</th>\n",
       "      <th>anti-satellite-test-ban</th>\n",
       "      <th>aid-to-nicaraguan-contras</th>\n",
       "      <th>mx-missile</th>\n",
       "      <th>immigration</th>\n",
       "      <th>synfuels-corporation-cutback</th>\n",
       "      <th>education-spending</th>\n",
       "      <th>superfund-right-to-sue</th>\n",
       "      <th>crime</th>\n",
       "      <th>duty-free-exports</th>\n",
       "      <th>export-administration-act-south-africa</th>\n",
       "      <th>Class</th>\n",
       "    </tr>\n",
       "  </thead>\n",
       "  <tbody>\n",
       "    <tr>\n",
       "      <th>0</th>\n",
       "      <td>0</td>\n",
       "      <td>1</td>\n",
       "      <td>1</td>\n",
       "      <td>0</td>\n",
       "      <td>0</td>\n",
       "      <td>1</td>\n",
       "      <td>1</td>\n",
       "      <td>1</td>\n",
       "      <td>1</td>\n",
       "      <td>0</td>\n",
       "      <td>1</td>\n",
       "      <td>0</td>\n",
       "      <td>0</td>\n",
       "      <td>1</td>\n",
       "      <td>1</td>\n",
       "      <td>1</td>\n",
       "      <td>0</td>\n",
       "    </tr>\n",
       "    <tr>\n",
       "      <th>1</th>\n",
       "      <td>0</td>\n",
       "      <td>0</td>\n",
       "      <td>1</td>\n",
       "      <td>1</td>\n",
       "      <td>0</td>\n",
       "      <td>1</td>\n",
       "      <td>1</td>\n",
       "      <td>1</td>\n",
       "      <td>1</td>\n",
       "      <td>1</td>\n",
       "      <td>0</td>\n",
       "      <td>1</td>\n",
       "      <td>0</td>\n",
       "      <td>1</td>\n",
       "      <td>0</td>\n",
       "      <td>1</td>\n",
       "      <td>1</td>\n",
       "    </tr>\n",
       "    <tr>\n",
       "      <th>2</th>\n",
       "      <td>0</td>\n",
       "      <td>1</td>\n",
       "      <td>1</td>\n",
       "      <td>0</td>\n",
       "      <td>1</td>\n",
       "      <td>1</td>\n",
       "      <td>0</td>\n",
       "      <td>0</td>\n",
       "      <td>0</td>\n",
       "      <td>0</td>\n",
       "      <td>1</td>\n",
       "      <td>0</td>\n",
       "      <td>1</td>\n",
       "      <td>1</td>\n",
       "      <td>0</td>\n",
       "      <td>0</td>\n",
       "      <td>0</td>\n",
       "    </tr>\n",
       "    <tr>\n",
       "      <th>3</th>\n",
       "      <td>1</td>\n",
       "      <td>0</td>\n",
       "      <td>0</td>\n",
       "      <td>0</td>\n",
       "      <td>1</td>\n",
       "      <td>1</td>\n",
       "      <td>1</td>\n",
       "      <td>0</td>\n",
       "      <td>0</td>\n",
       "      <td>1</td>\n",
       "      <td>1</td>\n",
       "      <td>0</td>\n",
       "      <td>0</td>\n",
       "      <td>1</td>\n",
       "      <td>0</td>\n",
       "      <td>1</td>\n",
       "      <td>0</td>\n",
       "    </tr>\n",
       "    <tr>\n",
       "      <th>4</th>\n",
       "      <td>1</td>\n",
       "      <td>1</td>\n",
       "      <td>1</td>\n",
       "      <td>1</td>\n",
       "      <td>1</td>\n",
       "      <td>1</td>\n",
       "      <td>0</td>\n",
       "      <td>0</td>\n",
       "      <td>1</td>\n",
       "      <td>0</td>\n",
       "      <td>1</td>\n",
       "      <td>0</td>\n",
       "      <td>1</td>\n",
       "      <td>1</td>\n",
       "      <td>0</td>\n",
       "      <td>0</td>\n",
       "      <td>0</td>\n",
       "    </tr>\n",
       "    <tr>\n",
       "      <th>...</th>\n",
       "      <td>...</td>\n",
       "      <td>...</td>\n",
       "      <td>...</td>\n",
       "      <td>...</td>\n",
       "      <td>...</td>\n",
       "      <td>...</td>\n",
       "      <td>...</td>\n",
       "      <td>...</td>\n",
       "      <td>...</td>\n",
       "      <td>...</td>\n",
       "      <td>...</td>\n",
       "      <td>...</td>\n",
       "      <td>...</td>\n",
       "      <td>...</td>\n",
       "      <td>...</td>\n",
       "      <td>...</td>\n",
       "      <td>...</td>\n",
       "    </tr>\n",
       "    <tr>\n",
       "      <th>456</th>\n",
       "      <td>0</td>\n",
       "      <td>0</td>\n",
       "      <td>1</td>\n",
       "      <td>1</td>\n",
       "      <td>1</td>\n",
       "      <td>1</td>\n",
       "      <td>0</td>\n",
       "      <td>0</td>\n",
       "      <td>1</td>\n",
       "      <td>1</td>\n",
       "      <td>0</td>\n",
       "      <td>1</td>\n",
       "      <td>1</td>\n",
       "      <td>1</td>\n",
       "      <td>0</td>\n",
       "      <td>1</td>\n",
       "      <td>1</td>\n",
       "    </tr>\n",
       "    <tr>\n",
       "      <th>457</th>\n",
       "      <td>0</td>\n",
       "      <td>0</td>\n",
       "      <td>1</td>\n",
       "      <td>0</td>\n",
       "      <td>0</td>\n",
       "      <td>0</td>\n",
       "      <td>1</td>\n",
       "      <td>1</td>\n",
       "      <td>1</td>\n",
       "      <td>1</td>\n",
       "      <td>0</td>\n",
       "      <td>0</td>\n",
       "      <td>0</td>\n",
       "      <td>0</td>\n",
       "      <td>0</td>\n",
       "      <td>1</td>\n",
       "      <td>0</td>\n",
       "    </tr>\n",
       "    <tr>\n",
       "      <th>458</th>\n",
       "      <td>0</td>\n",
       "      <td>1</td>\n",
       "      <td>0</td>\n",
       "      <td>1</td>\n",
       "      <td>1</td>\n",
       "      <td>1</td>\n",
       "      <td>0</td>\n",
       "      <td>0</td>\n",
       "      <td>0</td>\n",
       "      <td>0</td>\n",
       "      <td>1</td>\n",
       "      <td>1</td>\n",
       "      <td>1</td>\n",
       "      <td>1</td>\n",
       "      <td>0</td>\n",
       "      <td>1</td>\n",
       "      <td>1</td>\n",
       "    </tr>\n",
       "    <tr>\n",
       "      <th>459</th>\n",
       "      <td>0</td>\n",
       "      <td>0</td>\n",
       "      <td>0</td>\n",
       "      <td>1</td>\n",
       "      <td>1</td>\n",
       "      <td>1</td>\n",
       "      <td>1</td>\n",
       "      <td>1</td>\n",
       "      <td>0</td>\n",
       "      <td>0</td>\n",
       "      <td>0</td>\n",
       "      <td>1</td>\n",
       "      <td>1</td>\n",
       "      <td>1</td>\n",
       "      <td>0</td>\n",
       "      <td>1</td>\n",
       "      <td>1</td>\n",
       "    </tr>\n",
       "    <tr>\n",
       "      <th>460</th>\n",
       "      <td>0</td>\n",
       "      <td>1</td>\n",
       "      <td>0</td>\n",
       "      <td>1</td>\n",
       "      <td>1</td>\n",
       "      <td>1</td>\n",
       "      <td>0</td>\n",
       "      <td>0</td>\n",
       "      <td>0</td>\n",
       "      <td>1</td>\n",
       "      <td>0</td>\n",
       "      <td>1</td>\n",
       "      <td>1</td>\n",
       "      <td>1</td>\n",
       "      <td>0</td>\n",
       "      <td>0</td>\n",
       "      <td>1</td>\n",
       "    </tr>\n",
       "  </tbody>\n",
       "</table>\n",
       "<p>461 rows × 17 columns</p>\n",
       "</div>"
      ],
      "text/plain": [
       "    handicapped-infants water-project-cost-sharing  \\\n",
       "0                     0                          1   \n",
       "1                     0                          0   \n",
       "2                     0                          1   \n",
       "3                     1                          0   \n",
       "4                     1                          1   \n",
       "..                  ...                        ...   \n",
       "456                   0                          0   \n",
       "457                   0                          0   \n",
       "458                   0                          1   \n",
       "459                   0                          0   \n",
       "460                   0                          1   \n",
       "\n",
       "    adoption-of-the-budget-resolution physician-fee-freeze el-salvador-aid  \\\n",
       "0                                   1                    0               0   \n",
       "1                                   1                    1               0   \n",
       "2                                   1                    0               1   \n",
       "3                                   0                    0               1   \n",
       "4                                   1                    1               1   \n",
       "..                                ...                  ...             ...   \n",
       "456                                 1                    1               1   \n",
       "457                                 1                    0               0   \n",
       "458                                 0                    1               1   \n",
       "459                                 0                    1               1   \n",
       "460                                 0                    1               1   \n",
       "\n",
       "    religious-groups-in-schools anti-satellite-test-ban  \\\n",
       "0                             1                       1   \n",
       "1                             1                       1   \n",
       "2                             1                       0   \n",
       "3                             1                       1   \n",
       "4                             1                       0   \n",
       "..                          ...                     ...   \n",
       "456                           1                       0   \n",
       "457                           0                       1   \n",
       "458                           1                       0   \n",
       "459                           1                       1   \n",
       "460                           1                       0   \n",
       "\n",
       "    aid-to-nicaraguan-contras mx-missile immigration  \\\n",
       "0                           1          1           0   \n",
       "1                           1          1           1   \n",
       "2                           0          0           0   \n",
       "3                           0          0           1   \n",
       "4                           0          1           0   \n",
       "..                        ...        ...         ...   \n",
       "456                         0          1           1   \n",
       "457                         1          1           1   \n",
       "458                         0          0           0   \n",
       "459                         1          0           0   \n",
       "460                         0          0           1   \n",
       "\n",
       "    synfuels-corporation-cutback education-spending superfund-right-to-sue  \\\n",
       "0                              1                  0                      0   \n",
       "1                              0                  1                      0   \n",
       "2                              1                  0                      1   \n",
       "3                              1                  0                      0   \n",
       "4                              1                  0                      1   \n",
       "..                           ...                ...                    ...   \n",
       "456                            0                  1                      1   \n",
       "457                            0                  0                      0   \n",
       "458                            1                  1                      1   \n",
       "459                            0                  1                      1   \n",
       "460                            0                  1                      1   \n",
       "\n",
       "    crime duty-free-exports export-administration-act-south-africa Class  \n",
       "0       1                 1                                      1     0  \n",
       "1       1                 0                                      1     1  \n",
       "2       1                 0                                      0     0  \n",
       "3       1                 0                                      1     0  \n",
       "4       1                 0                                      0     0  \n",
       "..    ...               ...                                    ...   ...  \n",
       "456     1                 0                                      1     1  \n",
       "457     0                 0                                      1     0  \n",
       "458     1                 0                                      1     1  \n",
       "459     1                 0                                      1     1  \n",
       "460     1                 0                                      0     1  \n",
       "\n",
       "[461 rows x 17 columns]"
      ]
     },
     "metadata": {},
     "output_type": "display_data"
    },
    {
     "name": "stdout",
     "output_type": "stream",
     "text": [
      "Took 71 Epochs\n",
      "[ 4.00000000e-01 -6.00000000e-01 -1.30000000e+00  3.30000000e+00\n",
      "  4.00000000e-01 -1.00000000e-01  8.00000000e-01  4.00000000e-01\n",
      " -9.00000000e-01  1.30000000e+00 -1.10000000e+00  2.77555756e-17\n",
      "  4.00000000e-01 -5.00000000e-01 -4.00000000e-01  4.00000000e-01\n",
      " -2.00000000e+00]\n",
      "0.984472049689441\n",
      "0.935251798561151\n"
     ]
    }
   ],
   "source": [
    "# Create table any way you like\n",
    "data = arff.loadarff('voting-dataset.arff')\n",
    "df = pd.DataFrame(data[0])\n",
    "# decode strings\n",
    "df = df.apply(lambda x: x.str.decode('utf-8'))\n",
    "# encode to 0 or 1\n",
    "df[df == 'n'] = 0\n",
    "df[df == 'y'] = 1\n",
    "df[df == 'democrat'] = 0\n",
    "df[df == 'republican'] = 1\n",
    "display(df)\n",
    "np_inputs = np.array(df.iloc[:, 0:-1])\n",
    "np_targets = np.array(df['Class'])\n",
    "classifier = PerceptronClassifier(lr=.1, shuffle=True)\n",
    "train_X, train_y, test_X, test_y = classifier.train_test_split(np_inputs, np_targets, .7)\n",
    "classifier.fit(train_X, train_y, np.zeros(train_X.shape[1] + 1))\n",
    "\n",
    "# Print weights\n",
    "print(classifier.get_weights())\n",
    "print(classifier.score(train_X, train_y))\n",
    "print(classifier.score(test_X, test_y))"
   ]
  },
  {
   "cell_type": "markdown",
   "metadata": {
    "id": "cm4rbWkzVeoR"
   },
   "source": [
    "### 5.2 By looking at the weights, explain what the model has learned and how the individual input features affect the result. Which specific features are most critical for the voting task, and which are least critical? \n"
   ]
  },
  {
   "cell_type": "markdown",
   "metadata": {
    "id": "g3F0Qp-BVi1R"
   },
   "source": [
    "The model is learning what input feature are mostly likely to indicate that someone is republican or democrat, based on my results the features most critical for the voting task are: physician-fee-freeze, el-salvador-aid, and export administration-act-south-africa. The least critical by far is: education-spending"
   ]
  },
  {
   "cell_type": "markdown",
   "metadata": {
    "id": "NyUmJ4yWVsQ7"
   },
   "source": [
    "### 5.3 Make a graph of the average misclassification rate vs epochs (0th – final epoch).\n",
    "\n",
    "- Average the misclassification rate for the training set across your 5 trials (not across 5 epochs).\n",
    "\n",
    "\n",
    "![Average Misclassification Rate](https://raw.githubusercontent.com/rmorain/CS472-1/master/images/perceptron/avg_misclassification_rate_vs_epochs.png)"
   ]
  },
  {
   "cell_type": "code",
   "execution_count": 132,
   "metadata": {},
   "outputs": [
    {
     "name": "stdout",
     "output_type": "stream",
     "text": [
      "Took 251 Epochs\n",
      "Took 102 Epochs\n",
      "Took 18 Epochs\n",
      "Took 10 Epochs\n",
      "Took 143 Epochs\n"
     ]
    }
   ],
   "source": [
    "misclassifications = []\n",
    "for i in range(5):\n",
    "    train_X, train_y, test_X, test_y = classifier.train_test_split(np_inputs, np_targets, .7)\n",
    "    classifier.fit(train_X, train_y, np.zeros(train_X.shape[1] + 1))\n",
    "    misclassifications.append(classifier.get_misclassifications())\n",
    "    \n",
    "for i, l in enumerate(misclassifications):\n",
    "    misclassifications[i] = l[:10]"
   ]
  },
  {
   "cell_type": "code",
   "execution_count": 135,
   "metadata": {
    "id": "2_ZRPWWVVeFM"
   },
   "outputs": [
    {
     "data": {
      "image/png": "[encoded data removed]",
      "text/plain": [
       "<Figure size 432x288 with 1 Axes>"
      ]
     },
     "metadata": {
      "needs_background": "light"
     },
     "output_type": "display_data"
    }
   ],
   "source": [
    "# Graph here\n",
    "# print(misclassifications)\n",
    "avg_misclassification_rate = [(g + h + i + j + k) / 5 for g, h, i, j, k in zip(misclassifications[0], misclassifications[1], misclassifications[2], misclassifications[3], misclassifications[4])]\n",
    "\n",
    "# print(avg_misclassification_rate)\n",
    "\n",
    "def plot_misclassification(avg_misclassification_rate):\n",
    "    \"\"\"\n",
    "        Plots the average misclassification rate\n",
    "    Args:\n",
    "        avg_misclassification_rate (array-like): A 1D array or list\n",
    "    \"\"\"\n",
    "    plt.plot(np.arange(len(avg_misclassification_rate)), avg_misclassification_rate)\n",
    "    plt.title(\"Average Misclassification Rate vs. Epoch\")\n",
    "    plt.xlabel(\"Epoch\")\n",
    "    plt.ylabel(\"Misclassification Rate\")\n",
    "    plt.show()\n",
    "    \n",
    "plot_misclassification(avg_misclassification_rate)"
   ]
  },
  {
   "cell_type": "markdown",
   "metadata": {
    "id": "oBBmeNQ7jvcQ"
   },
   "source": [
    "## 6. (10%) Use the perceptron algorithm from the [scikit-learn toolkit](https://scikit-learn.org/stable/modules/generated/sklearn.linear_model.Perceptron.html) to learn the voting task above and also one other data set of your choice.\n",
    "\n",
    "- Report and compare your results.\n",
    "- Try out some of the hyper-parameters that scikit-learn makes available on your own perceptron."
   ]
  },
  {
   "cell_type": "code",
   "execution_count": 139,
   "metadata": {
    "id": "OFQv70W2VyqJ"
   },
   "outputs": [
    {
     "name": "stdout",
     "output_type": "stream",
     "text": [
      "0.9751552795031055\n",
      "0.9424460431654677\n"
     ]
    }
   ],
   "source": [
    "# Load sklearn perceptron\n",
    "classifier = Perceptron()\n",
    "# Train on voting dataset\n",
    "train_y=train_y.astype(np.float64)\n",
    "test_y=test_y.astype(np.float64)\n",
    "\n",
    "classifier.fit(train_X, train_y)\n",
    "print(classifier.score(train_X, train_y))\n",
    "print(classifier.score(test_X, test_y))"
   ]
  },
  {
   "cell_type": "markdown",
   "metadata": {
    "id": "BqSFAXwlk3Ms"
   },
   "source": [
    "It actually drops in and works just like the classifier I wrote which is pretty cool, I'm sure under the hood it is way more efficient and powerful but it is cool to see I essentially built the same classifier. One note is that it seems like it over tunes on the training set more than my classifier but that is probably just due to hyperparameters"
   ]
  },
  {
   "cell_type": "markdown",
   "metadata": {
    "id": "cTlK-kijk8Mg"
   },
   "source": [
    "## 7. (Optional 5% extra credit) Use the perceptron rule to learn the [iris task](https://raw.githubusercontent.com/cs472ta/CS472/master/datasets/iris.arff) or some other task with more than two possible output values. \n",
    "\n",
    "Note that the [iris data](https://raw.githubusercontent.com/cs472ta/CS472/master/datasets/iris.arff) set has 3 output classes, and a perceptron node only has two possible outputs.  You could implement either of the two most common ways to deal with this. For testing you just execute the novel instance on each model and combine the overall results to see which output class wins."
   ]
  },
  {
   "cell_type": "code",
   "execution_count": null,
   "metadata": {
    "id": "5iY77P7gk1Nh"
   },
   "outputs": [],
   "source": []
  }
 ],
 "metadata": {
  "colab": {
   "collapsed_sections": [],
   "name": "lab 1 - perceptron",
   "provenance": []
  },
  "kernelspec": {
   "display_name": "Python 3",
   "language": "python",
   "name": "python3"
  },
  "language_info": {
   "codemirror_mode": {
    "name": "ipython",
    "version": 3
   },
   "file_extension": ".py",
   "mimetype": "text/x-python",
   "name": "python",
   "nbconvert_exporter": "python",
   "pygments_lexer": "ipython3",
   "version": "3.8.3"
  }
 },
 "nbformat": 4,
 "nbformat_minor": 4
}
