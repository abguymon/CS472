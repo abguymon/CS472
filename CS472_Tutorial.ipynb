{
 "cells": [
  {
   "cell_type": "markdown",
   "metadata": {
    "id": "-4wZemYlU6Ig"
   },
   "source": [
    "# Tutorial \n",
    "\n",
    "1. Loading data\n",
    "2. Graphing\n",
    "3. Tables"
   ]
  },
  {
   "cell_type": "markdown",
   "metadata": {
    "id": "JY-vnJFKpDsJ"
   },
   "source": [
    "## Loading Data\n",
    "\n",
    "Each dataset will be a link to a file that can be downloaded. Use curl to download the file and then load the file with whatever you like."
   ]
  },
  {
   "cell_type": "code",
   "execution_count": null,
   "metadata": {
    "colab": {
     "base_uri": "https://localhost:8080/",
     "height": 322
    },
    "id": "tEM2KDM-pDdM",
    "outputId": "59969437-aab5-4ae7-9598-5e2c24e62543"
   },
   "outputs": [
    {
     "name": "stdout",
     "output_type": "stream",
     "text": [
      "  % Total    % Received % Xferd  Average Speed   Time    Time     Time  Current\n",
      "                                 Dload  Upload   Total   Spent    Left  Speed\n",
      "100 43825  100 43825    0     0   172k      0 --:--:-- --:--:-- --:--:--  171k\n"
     ]
    },
    {
     "data": {
      "text/html": [
       "<div>\n",
       "<style scoped>\n",
       "    .dataframe tbody tr th:only-of-type {\n",
       "        vertical-align: middle;\n",
       "    }\n",
       "\n",
       "    .dataframe tbody tr th {\n",
       "        vertical-align: top;\n",
       "    }\n",
       "\n",
       "    .dataframe thead th {\n",
       "        text-align: right;\n",
       "    }\n",
       "</style>\n",
       "<table border=\"1\" class=\"dataframe\">\n",
       "  <thead>\n",
       "    <tr style=\"text-align: right;\">\n",
       "      <th></th>\n",
       "      <th>handicapped-infants</th>\n",
       "      <th>water-project-cost-sharing</th>\n",
       "      <th>adoption-of-the-budget-resolution</th>\n",
       "      <th>physician-fee-freeze</th>\n",
       "      <th>el-salvador-aid</th>\n",
       "      <th>religious-groups-in-schools</th>\n",
       "      <th>anti-satellite-test-ban</th>\n",
       "      <th>aid-to-nicaraguan-contras</th>\n",
       "      <th>mx-missile</th>\n",
       "      <th>immigration</th>\n",
       "      <th>synfuels-corporation-cutback</th>\n",
       "      <th>education-spending</th>\n",
       "      <th>superfund-right-to-sue</th>\n",
       "      <th>crime</th>\n",
       "      <th>duty-free-exports</th>\n",
       "      <th>export-administration-act-south-africa</th>\n",
       "      <th>Class</th>\n",
       "    </tr>\n",
       "  </thead>\n",
       "  <tbody>\n",
       "    <tr>\n",
       "      <th>0</th>\n",
       "      <td>b'n'</td>\n",
       "      <td>b'y'</td>\n",
       "      <td>b'y'</td>\n",
       "      <td>b'n'</td>\n",
       "      <td>b'n'</td>\n",
       "      <td>b'y'</td>\n",
       "      <td>b'y'</td>\n",
       "      <td>b'y'</td>\n",
       "      <td>b'y'</td>\n",
       "      <td>b'n'</td>\n",
       "      <td>b'y'</td>\n",
       "      <td>b'n'</td>\n",
       "      <td>b'n'</td>\n",
       "      <td>b'y'</td>\n",
       "      <td>b'y'</td>\n",
       "      <td>b'y'</td>\n",
       "      <td>b'democrat'</td>\n",
       "    </tr>\n",
       "    <tr>\n",
       "      <th>1</th>\n",
       "      <td>b'n'</td>\n",
       "      <td>b'n'</td>\n",
       "      <td>b'y'</td>\n",
       "      <td>b'y'</td>\n",
       "      <td>b'n'</td>\n",
       "      <td>b'y'</td>\n",
       "      <td>b'y'</td>\n",
       "      <td>b'y'</td>\n",
       "      <td>b'y'</td>\n",
       "      <td>b'y'</td>\n",
       "      <td>b'n'</td>\n",
       "      <td>b'y'</td>\n",
       "      <td>b'n'</td>\n",
       "      <td>b'y'</td>\n",
       "      <td>b'n'</td>\n",
       "      <td>b'y'</td>\n",
       "      <td>b'republican'</td>\n",
       "    </tr>\n",
       "    <tr>\n",
       "      <th>2</th>\n",
       "      <td>b'n'</td>\n",
       "      <td>b'y'</td>\n",
       "      <td>b'y'</td>\n",
       "      <td>b'n'</td>\n",
       "      <td>b'y'</td>\n",
       "      <td>b'y'</td>\n",
       "      <td>b'n'</td>\n",
       "      <td>b'n'</td>\n",
       "      <td>b'n'</td>\n",
       "      <td>b'n'</td>\n",
       "      <td>b'y'</td>\n",
       "      <td>b'n'</td>\n",
       "      <td>b'y'</td>\n",
       "      <td>b'y'</td>\n",
       "      <td>b'n'</td>\n",
       "      <td>b'n'</td>\n",
       "      <td>b'democrat'</td>\n",
       "    </tr>\n",
       "    <tr>\n",
       "      <th>3</th>\n",
       "      <td>b'y'</td>\n",
       "      <td>b'n'</td>\n",
       "      <td>b'n'</td>\n",
       "      <td>b'n'</td>\n",
       "      <td>b'y'</td>\n",
       "      <td>b'y'</td>\n",
       "      <td>b'y'</td>\n",
       "      <td>b'n'</td>\n",
       "      <td>b'n'</td>\n",
       "      <td>b'y'</td>\n",
       "      <td>b'y'</td>\n",
       "      <td>b'n'</td>\n",
       "      <td>b'n'</td>\n",
       "      <td>b'y'</td>\n",
       "      <td>b'n'</td>\n",
       "      <td>b'y'</td>\n",
       "      <td>b'democrat'</td>\n",
       "    </tr>\n",
       "    <tr>\n",
       "      <th>4</th>\n",
       "      <td>b'y'</td>\n",
       "      <td>b'y'</td>\n",
       "      <td>b'y'</td>\n",
       "      <td>b'y'</td>\n",
       "      <td>b'y'</td>\n",
       "      <td>b'y'</td>\n",
       "      <td>b'n'</td>\n",
       "      <td>b'n'</td>\n",
       "      <td>b'y'</td>\n",
       "      <td>b'n'</td>\n",
       "      <td>b'y'</td>\n",
       "      <td>b'n'</td>\n",
       "      <td>b'y'</td>\n",
       "      <td>b'y'</td>\n",
       "      <td>b'n'</td>\n",
       "      <td>b'n'</td>\n",
       "      <td>b'democrat'</td>\n",
       "    </tr>\n",
       "  </tbody>\n",
       "</table>\n",
       "</div>"
      ],
      "text/plain": [
       "  handicapped-infants  ...          Class\n",
       "0                b'n'  ...    b'democrat'\n",
       "1                b'n'  ...  b'republican'\n",
       "2                b'n'  ...    b'democrat'\n",
       "3                b'y'  ...    b'democrat'\n",
       "4                b'y'  ...    b'democrat'\n",
       "\n",
       "[5 rows x 17 columns]"
      ]
     },
     "execution_count": 2,
     "metadata": {
      "tags": []
     },
     "output_type": "execute_result"
    }
   ],
   "source": [
    "from scipy.io import arff\n",
    "import pandas as pd\n",
    "\n",
    "# Download file with curl\n",
    "!curl https://raw.githubusercontent.com/rmorain/CS472-1/master/datasets/perceptron/voting-dataset.arff --output voting-dataset.arff\n",
    "\n",
    "data = arff.loadarff('voting-dataset.arff')\n",
    "df = pd.DataFrame(data[0])\n",
    "\n",
    "df.head()"
   ]
  },
  {
   "cell_type": "markdown",
   "metadata": {
    "id": "yxXMELn3rS1I"
   },
   "source": [
    "Data can be moved from dataframes to numpy or loaded straight into numpy from scipy."
   ]
  },
  {
   "cell_type": "code",
   "execution_count": null,
   "metadata": {
    "colab": {
     "base_uri": "https://localhost:8080/"
    },
    "id": "5cdgZqNKVA4y",
    "outputId": "5ffb60f5-d1d1-4907-dbb6-1632b65f7d0e"
   },
   "outputs": [
    {
     "data": {
      "text/plain": [
       "array([[b'n', b'y', b'y', ..., b'y', b'y', b'democrat'],\n",
       "       [b'n', b'n', b'y', ..., b'n', b'y', b'republican'],\n",
       "       [b'n', b'y', b'y', ..., b'n', b'n', b'democrat'],\n",
       "       ...,\n",
       "       [b'n', b'y', b'n', ..., b'n', b'y', b'republican'],\n",
       "       [b'n', b'n', b'n', ..., b'n', b'y', b'republican'],\n",
       "       [b'n', b'y', b'n', ..., b'n', b'n', b'republican']], dtype=object)"
      ]
     },
     "execution_count": 3,
     "metadata": {
      "tags": []
     },
     "output_type": "execute_result"
    }
   ],
   "source": [
    "import numpy as np\n",
    "\n",
    "np_data = np.array(df)\n",
    "\n",
    "np_data"
   ]
  },
  {
   "cell_type": "code",
   "execution_count": null,
   "metadata": {
    "colab": {
     "base_uri": "https://localhost:8080/"
    },
    "id": "AIsFn1OCqlyo",
    "outputId": "5841e334-af9a-41f6-ede0-51bbcb098ea6"
   },
   "outputs": [
    {
     "data": {
      "text/plain": [
       "array([(b'n', b'y', b'y', b'n', b'n', b'y', b'y', b'y', b'y', b'n', b'y', b'n', b'n', b'y', b'y', b'y', b'democrat'),\n",
       "       (b'n', b'n', b'y', b'y', b'n', b'y', b'y', b'y', b'y', b'y', b'n', b'y', b'n', b'y', b'n', b'y', b'republican'),\n",
       "       (b'n', b'y', b'y', b'n', b'y', b'y', b'n', b'n', b'n', b'n', b'y', b'n', b'y', b'y', b'n', b'n', b'democrat'),\n",
       "       (b'y', b'n', b'n', b'n', b'y', b'y', b'y', b'n', b'n', b'y', b'y', b'n', b'n', b'y', b'n', b'y', b'democrat'),\n",
       "       (b'y', b'y', b'y', b'y', b'y', b'y', b'n', b'n', b'y', b'n', b'y', b'n', b'y', b'y', b'n', b'n', b'democrat'),\n",
       "       (b'n', b'n', b'y', b'y', b'y', b'y', b'n', b'n', b'y', b'n', b'n', b'n', b'y', b'y', b'y', b'y', b'democrat'),\n",
       "       (b'n', b'y', b'y', b'n', b'y', b'y', b'n', b'n', b'n', b'n', b'y', b'n', b'n', b'n', b'y', b'y', b'democrat'),\n",
       "       (b'n', b'y', b'n', b'n', b'y', b'y', b'n', b'n', b'n', b'n', b'n', b'y', b'y', b'y', b'n', b'y', b'democrat'),\n",
       "       (b'y', b'n', b'y', b'n', b'y', b'y', b'y', b'n', b'y', b'y', b'n', b'n', b'y', b'y', b'n', b'y', b'democrat'),\n",
       "       (b'n', b'y', b'n', b'y', b'y', b'y', b'n', b'n', b'n', b'n', b'y', b'y', b'n', b'y', b'n', b'n', b'democrat'),\n",
       "       (b'n', b'y', b'y', b'y', b'y', b'y', b'n', b'n', b'n', b'n', b'n', b'y', b'y', b'y', b'n', b'y', b'democrat'),\n",
       "       (b'n', b'n', b'n', b'y', b'y', b'y', b'n', b'n', b'n', b'n', b'y', b'y', b'y', b'y', b'n', b'n', b'democrat'),\n",
       "       (b'n', b'y', b'n', b'y', b'y', b'y', b'n', b'n', b'n', b'n', b'n', b'y', b'y', b'y', b'n', b'y', b'republican'),\n",
       "       (b'y', b'y', b'n', b'y', b'y', b'y', b'n', b'n', b'n', b'y', b'n', b'y', b'y', b'y', b'n', b'y', b'republican'),\n",
       "       (b'n', b'y', b'n', b'y', b'y', b'y', b'n', b'n', b'n', b'y', b'n', b'y', b'y', b'y', b'n', b'y', b'republican'),\n",
       "       (b'n', b'y', b'n', b'y', b'y', b'y', b'n', b'n', b'n', b'y', b'n', b'y', b'y', b'y', b'n', b'n', b'republican'),\n",
       "       (b'n', b'n', b'n', b'y', b'y', b'y', b'n', b'n', b'n', b'n', b'n', b'y', b'y', b'y', b'n', b'n', b'republican'),\n",
       "       (b'n', b'n', b'n', b'y', b'y', b'y', b'n', b'n', b'n', b'y', b'n', b'y', b'y', b'y', b'n', b'n', b'republican'),\n",
       "       (b'y', b'y', b'n', b'y', b'y', b'y', b'y', b'n', b'n', b'n', b'n', b'y', b'y', b'y', b'n', b'n', b'republican'),\n",
       "       (b'n', b'n', b'n', b'y', b'y', b'y', b'n', b'n', b'n', b'n', b'n', b'y', b'y', b'y', b'n', b'y', b'republican'),\n",
       "       (b'n', b'y', b'n', b'y', b'y', b'y', b'n', b'n', b'n', b'n', b'n', b'y', b'y', b'y', b'n', b'y', b'republican'),\n",
       "       (b'n', b'y', b'n', b'y', b'y', b'y', b'y', b'n', b'n', b'n', b'n', b'n', b'y', b'y', b'n', b'n', b'republican'),\n",
       "       (b'n', b'y', b'y', b'y', b'y', b'y', b'y', b'y', b'n', b'n', b'n', b'n', b'y', b'y', b'y', b'y', b'republican'),\n",
       "       (b'y', b'n', b'n', b'y', b'y', b'y', b'n', b'n', b'n', b'y', b'n', b'y', b'y', b'y', b'n', b'n', b'republican'),\n",
       "       (b'n', b'y', b'n', b'y', b'y', b'y', b'n', b'n', b'n', b'n', b'n', b'n', b'y', b'y', b'n', b'y', b'republican'),\n",
       "       (b'n', b'n', b'n', b'y', b'y', b'y', b'y', b'y', b'n', b'y', b'n', b'y', b'y', b'y', b'n', b'y', b'republican'),\n",
       "       (b'n', b'y', b'n', b'y', b'y', b'y', b'n', b'n', b'n', b'y', b'n', b'y', b'y', b'y', b'n', b'y', b'republican'),\n",
       "       (b'n', b'y', b'n', b'y', b'y', b'y', b'n', b'n', b'n', b'n', b'n', b'y', b'y', b'y', b'n', b'y', b'republican'),\n",
       "       (b'n', b'y', b'y', b'n', b'y', b'y', b'n', b'n', b'n', b'n', b'y', b'n', b'y', b'y', b'n', b'n', b'democrat'),\n",
       "       (b'n', b'y', b'y', b'n', b'y', b'y', b'n', b'n', b'n', b'n', b'y', b'n', b'y', b'n', b'n', b'y', b'democrat'),\n",
       "       (b'y', b'y', b'y', b'n', b'y', b'y', b'n', b'n', b'n', b'n', b'y', b'n', b'y', b'y', b'y', b'y', b'democrat'),\n",
       "       (b'n', b'y', b'y', b'n', b'y', b'y', b'n', b'n', b'n', b'n', b'n', b'n', b'y', b'y', b'y', b'y', b'democrat'),\n",
       "       (b'n', b'y', b'n', b'y', b'y', b'y', b'n', b'n', b'n', b'n', b'n', b'n', b'y', b'y', b'y', b'y', b'democrat'),\n",
       "       (b'n', b'y', b'n', b'y', b'y', b'y', b'n', b'n', b'n', b'n', b'n', b'n', b'y', b'y', b'n', b'y', b'republican'),\n",
       "       (b'n', b'y', b'n', b'y', b'y', b'y', b'n', b'n', b'n', b'n', b'n', b'y', b'y', b'y', b'n', b'y', b'republican'),\n",
       "       (b'y', b'y', b'y', b'n', b'n', b'n', b'y', b'y', b'y', b'n', b'n', b'n', b'n', b'n', b'n', b'y', b'democrat'),\n",
       "       (b'n', b'y', b'n', b'y', b'y', b'n', b'n', b'n', b'n', b'n', b'n', b'n', b'y', b'y', b'n', b'n', b'republican'),\n",
       "       (b'n', b'y', b'n', b'y', b'y', b'y', b'n', b'n', b'n', b'n', b'y', b'n', b'y', b'y', b'n', b'y', b'republican'),\n",
       "       (b'n', b'y', b'y', b'n', b'n', b'n', b'y', b'y', b'y', b'n', b'n', b'n', b'y', b'n', b'n', b'y', b'democrat'),\n",
       "       (b'y', b'y', b'y', b'n', b'n', b'y', b'y', b'y', b'n', b'y', b'y', b'n', b'n', b'n', b'y', b'y', b'democrat'),\n",
       "       (b'n', b'y', b'n', b'y', b'y', b'y', b'n', b'n', b'n', b'n', b'n', b'y', b'y', b'y', b'n', b'y', b'republican'),\n",
       "       (b'n', b'y', b'n', b'y', b'y', b'y', b'n', b'n', b'n', b'y', b'n', b'y', b'y', b'y', b'n', b'y', b'republican'),\n",
       "       (b'y', b'n', b'y', b'n', b'n', b'y', b'n', b'y', b'n', b'y', b'y', b'y', b'y', b'n', b'n', b'y', b'democrat'),\n",
       "       (b'y', b'y', b'y', b'n', b'n', b'n', b'y', b'y', b'y', b'n', b'n', b'n', b'y', b'n', b'y', b'y', b'democrat'),\n",
       "       (b'n', b'y', b'n', b'y', b'y', b'y', b'n', b'n', b'n', b'n', b'n', b'n', b'y', b'y', b'n', b'n', b'republican'),\n",
       "       (b'y', b'y', b'y', b'n', b'n', b'n', b'y', b'y', b'y', b'n', b'y', b'n', b'n', b'n', b'y', b'y', b'democrat'),\n",
       "       (b'y', b'y', b'y', b'n', b'n', b'y', b'y', b'y', b'n', b'n', b'y', b'n', b'n', b'n', b'y', b'y', b'democrat'),\n",
       "       (b'y', b'y', b'y', b'n', b'n', b'n', b'y', b'y', b'y', b'n', b'n', b'n', b'y', b'y', b'y', b'y', b'democrat'),\n",
       "       (b'y', b'y', b'y', b'n', b'n', b'n', b'y', b'y', b'y', b'n', b'n', b'n', b'n', b'n', b'y', b'y', b'democrat'),\n",
       "       (b'y', b'y', b'y', b'n', b'n', b'n', b'y', b'y', b'y', b'n', b'n', b'n', b'n', b'n', b'y', b'y', b'democrat'),\n",
       "       (b'y', b'n', b'y', b'n', b'n', b'n', b'y', b'y', b'y', b'n', b'n', b'n', b'n', b'n', b'y', b'y', b'democrat'),\n",
       "       (b'y', b'n', b'y', b'n', b'n', b'n', b'y', b'y', b'y', b'y', b'n', b'n', b'n', b'n', b'y', b'y', b'democrat'),\n",
       "       (b'y', b'n', b'y', b'n', b'n', b'n', b'y', b'y', b'y', b'n', b'y', b'n', b'n', b'n', b'y', b'y', b'democrat'),\n",
       "       (b'y', b'y', b'y', b'n', b'n', b'n', b'y', b'y', b'y', b'n', b'y', b'n', b'n', b'n', b'y', b'y', b'democrat'),\n",
       "       (b'y', b'n', b'n', b'y', b'y', b'n', b'y', b'y', b'y', b'n', b'n', b'y', b'y', b'y', b'n', b'y', b'republican'),\n",
       "       (b'y', b'y', b'y', b'n', b'n', b'n', b'y', b'y', b'y', b'n', b'y', b'n', b'n', b'n', b'y', b'y', b'democrat'),\n",
       "       (b'n', b'y', b'n', b'y', b'y', b'y', b'n', b'n', b'n', b'n', b'n', b'y', b'y', b'y', b'n', b'n', b'republican'),\n",
       "       (b'y', b'y', b'y', b'n', b'n', b'n', b'y', b'y', b'y', b'n', b'y', b'n', b'n', b'n', b'y', b'y', b'democrat'),\n",
       "       (b'y', b'y', b'y', b'n', b'n', b'n', b'y', b'y', b'y', b'y', b'n', b'n', b'y', b'n', b'y', b'y', b'democrat'),\n",
       "       (b'n', b'y', b'n', b'y', b'y', b'y', b'n', b'n', b'n', b'n', b'n', b'y', b'y', b'y', b'n', b'y', b'republican'),\n",
       "       (b'y', b'y', b'y', b'n', b'n', b'n', b'y', b'y', b'y', b'n', b'n', b'n', b'n', b'n', b'y', b'y', b'democrat'),\n",
       "       (b'n', b'y', b'n', b'y', b'y', b'y', b'n', b'n', b'n', b'n', b'n', b'y', b'y', b'y', b'n', b'n', b'republican'),\n",
       "       (b'y', b'y', b'n', b'y', b'y', b'y', b'n', b'n', b'n', b'y', b'n', b'y', b'y', b'y', b'n', b'y', b'republican'),\n",
       "       (b'y', b'y', b'n', b'y', b'y', b'y', b'n', b'n', b'n', b'n', b'n', b'n', b'y', b'y', b'n', b'y', b'republican'),\n",
       "       (b'n', b'y', b'n', b'y', b'y', b'y', b'n', b'n', b'n', b'y', b'n', b'y', b'y', b'y', b'n', b'n', b'republican'),\n",
       "       (b'y', b'n', b'y', b'n', b'n', b'n', b'y', b'y', b'y', b'y', b'y', b'n', b'y', b'n', b'y', b'y', b'democrat'),\n",
       "       (b'y', b'y', b'y', b'n', b'n', b'n', b'y', b'y', b'y', b'n', b'n', b'n', b'n', b'n', b'n', b'y', b'democrat'),\n",
       "       (b'y', b'y', b'y', b'n', b'n', b'n', b'y', b'y', b'y', b'n', b'n', b'n', b'n', b'n', b'y', b'y', b'democrat'),\n",
       "       (b'y', b'n', b'y', b'n', b'n', b'n', b'y', b'y', b'y', b'n', b'n', b'n', b'n', b'n', b'n', b'y', b'democrat'),\n",
       "       (b'y', b'n', b'y', b'n', b'n', b'n', b'y', b'y', b'y', b'n', b'n', b'n', b'n', b'n', b'y', b'y', b'democrat'),\n",
       "       (b'y', b'y', b'y', b'n', b'n', b'n', b'y', b'y', b'y', b'n', b'y', b'n', b'n', b'n', b'n', b'y', b'democrat'),\n",
       "       (b'y', b'y', b'y', b'n', b'n', b'n', b'y', b'y', b'n', b'n', b'y', b'n', b'n', b'n', b'y', b'y', b'democrat'),\n",
       "       (b'y', b'y', b'y', b'n', b'n', b'n', b'y', b'y', b'y', b'n', b'n', b'n', b'n', b'n', b'n', b'y', b'democrat'),\n",
       "       (b'y', b'n', b'y', b'n', b'n', b'n', b'y', b'y', b'n', b'n', b'n', b'n', b'n', b'n', b'n', b'y', b'democrat'),\n",
       "       (b'y', b'y', b'y', b'n', b'n', b'n', b'y', b'y', b'n', b'n', b'n', b'n', b'n', b'y', b'n', b'y', b'democrat'),\n",
       "       (b'n', b'y', b'n', b'y', b'y', b'y', b'n', b'n', b'n', b'n', b'n', b'y', b'y', b'y', b'n', b'n', b'republican'),\n",
       "       (b'y', b'y', b'y', b'n', b'n', b'n', b'y', b'y', b'y', b'n', b'y', b'n', b'n', b'n', b'y', b'y', b'democrat'),\n",
       "       (b'n', b'y', b'n', b'y', b'y', b'y', b'n', b'y', b'n', b'n', b'n', b'y', b'y', b'y', b'n', b'y', b'republican'),\n",
       "       (b'y', b'y', b'y', b'n', b'n', b'n', b'y', b'y', b'y', b'n', b'n', b'n', b'n', b'n', b'n', b'y', b'democrat'),\n",
       "       (b'y', b'y', b'n', b'y', b'y', b'y', b'n', b'n', b'n', b'y', b'n', b'y', b'y', b'y', b'n', b'n', b'republican'),\n",
       "       (b'y', b'y', b'y', b'n', b'n', b'y', b'y', b'y', b'n', b'n', b'y', b'y', b'n', b'y', b'n', b'y', b'democrat'),\n",
       "       (b'n', b'y', b'n', b'y', b'y', b'y', b'n', b'n', b'n', b'y', b'y', b'y', b'y', b'y', b'n', b'n', b'republican'),\n",
       "       (b'n', b'y', b'n', b'y', b'y', b'y', b'n', b'n', b'n', b'y', b'y', b'y', b'y', b'y', b'n', b'y', b'republican'),\n",
       "       (b'n', b'y', b'n', b'y', b'y', b'y', b'n', b'n', b'n', b'y', b'n', b'y', b'y', b'y', b'n', b'y', b'republican'),\n",
       "       (b'n', b'y', b'n', b'y', b'y', b'y', b'n', b'n', b'n', b'y', b'n', b'y', b'y', b'y', b'n', b'y', b'republican'),\n",
       "       (b'n', b'y', b'n', b'y', b'y', b'y', b'n', b'n', b'n', b'y', b'n', b'y', b'y', b'y', b'n', b'y', b'republican'),\n",
       "       (b'y', b'y', b'y', b'n', b'n', b'y', b'y', b'y', b'y', b'y', b'n', b'n', b'n', b'n', b'y', b'y', b'democrat'),\n",
       "       (b'n', b'y', b'n', b'y', b'y', b'y', b'n', b'n', b'n', b'n', b'n', b'y', b'y', b'y', b'n', b'n', b'republican'),\n",
       "       (b'y', b'y', b'y', b'n', b'n', b'n', b'y', b'y', b'y', b'n', b'n', b'n', b'n', b'n', b'n', b'y', b'democrat'),\n",
       "       (b'y', b'y', b'y', b'n', b'n', b'n', b'y', b'y', b'y', b'n', b'y', b'n', b'n', b'n', b'n', b'y', b'democrat'),\n",
       "       (b'y', b'y', b'y', b'n', b'n', b'n', b'y', b'y', b'y', b'n', b'y', b'n', b'n', b'n', b'n', b'y', b'democrat'),\n",
       "       (b'y', b'y', b'n', b'y', b'y', b'y', b'y', b'n', b'n', b'n', b'n', b'y', b'y', b'y', b'n', b'y', b'republican'),\n",
       "       (b'n', b'y', b'n', b'y', b'y', b'y', b'y', b'n', b'n', b'n', b'y', b'y', b'y', b'y', b'n', b'y', b'republican'),\n",
       "       (b'n', b'y', b'n', b'y', b'y', b'y', b'n', b'n', b'n', b'y', b'n', b'y', b'y', b'y', b'n', b'n', b'republican'),\n",
       "       (b'y', b'y', b'y', b'n', b'n', b'n', b'y', b'y', b'y', b'n', b'n', b'n', b'y', b'n', b'y', b'y', b'democrat'),\n",
       "       (b'y', b'y', b'y', b'n', b'n', b'n', b'y', b'y', b'y', b'n', b'n', b'n', b'n', b'n', b'y', b'y', b'democrat'),\n",
       "       (b'y', b'n', b'y', b'n', b'n', b'n', b'y', b'y', b'y', b'n', b'n', b'n', b'y', b'n', b'y', b'y', b'democrat'),\n",
       "       (b'y', b'y', b'y', b'y', b'n', b'n', b'y', b'y', b'y', b'y', b'y', b'n', b'n', b'y', b'n', b'y', b'republican'),\n",
       "       (b'y', b'y', b'y', b'n', b'n', b'n', b'y', b'y', b'y', b'n', b'y', b'n', b'n', b'n', b'y', b'y', b'democrat'),\n",
       "       (b'y', b'n', b'y', b'y', b'y', b'n', b'y', b'n', b'y', b'y', b'n', b'n', b'y', b'y', b'n', b'y', b'republican'),\n",
       "       (b'y', b'n', b'y', b'n', b'n', b'y', b'y', b'y', b'y', b'y', b'y', b'n', b'n', b'y', b'y', b'y', b'democrat'),\n",
       "       (b'n', b'y', b'y', b'y', b'y', b'y', b'n', b'n', b'n', b'y', b'y', b'n', b'y', b'y', b'n', b'n', b'democrat'),\n",
       "       (b'n', b'y', b'y', b'n', b'y', b'y', b'n', b'n', b'n', b'y', b'y', b'y', b'y', b'y', b'n', b'y', b'democrat'),\n",
       "       (b'n', b'y', b'y', b'y', b'y', b'y', b'n', b'y', b'y', b'y', b'y', b'y', b'y', b'y', b'n', b'y', b'democrat'),\n",
       "       (b'y', b'y', b'y', b'n', b'y', b'y', b'n', b'n', b'n', b'y', b'y', b'n', b'y', b'y', b'n', b'y', b'democrat'),\n",
       "       (b'n', b'n', b'n', b'y', b'y', b'n', b'n', b'n', b'n', b'y', b'n', b'y', b'y', b'y', b'n', b'n', b'republican'),\n",
       "       (b'y', b'n', b'y', b'n', b'n', b'y', b'y', b'y', b'y', b'y', b'n', b'y', b'n', b'y', b'n', b'y', b'democrat'),\n",
       "       (b'y', b'n', b'y', b'n', b'n', b'n', b'y', b'y', b'n', b'y', b'y', b'y', b'n', b'y', b'n', b'y', b'democrat'),\n",
       "       (b'n', b'n', b'n', b'y', b'y', b'y', b'n', b'n', b'n', b'y', b'n', b'y', b'y', b'y', b'n', b'y', b'republican'),\n",
       "       (b'n', b'n', b'n', b'y', b'y', b'y', b'n', b'n', b'n', b'n', b'n', b'y', b'y', b'y', b'n', b'n', b'republican'),\n",
       "       (b'n', b'y', b'n', b'y', b'y', b'y', b'n', b'n', b'n', b'y', b'n', b'y', b'y', b'y', b'n', b'n', b'republican'),\n",
       "       (b'n', b'n', b'y', b'n', b'y', b'y', b'n', b'n', b'n', b'y', b'y', b'y', b'y', b'y', b'n', b'y', b'democrat'),\n",
       "       (b'n', b'n', b'n', b'y', b'y', b'y', b'n', b'n', b'n', b'y', b'n', b'y', b'y', b'y', b'n', b'n', b'republican'),\n",
       "       (b'n', b'n', b'n', b'y', b'y', b'y', b'n', b'n', b'n', b'n', b'n', b'y', b'y', b'y', b'n', b'n', b'republican'),\n",
       "       (b'n', b'y', b'y', b'n', b'y', b'y', b'y', b'n', b'y', b'y', b'y', b'n', b'y', b'y', b'n', b'y', b'democrat'),\n",
       "       (b'n', b'n', b'n', b'y', b'y', b'y', b'n', b'n', b'n', b'y', b'n', b'n', b'y', b'y', b'n', b'y', b'republican'),\n",
       "       (b'y', b'n', b'y', b'n', b'n', b'n', b'y', b'y', b'y', b'y', b'n', b'n', b'n', b'n', b'y', b'y', b'democrat'),\n",
       "       (b'y', b'n', b'y', b'n', b'n', b'n', b'y', b'y', b'y', b'y', b'y', b'n', b'n', b'n', b'y', b'y', b'democrat'),\n",
       "       (b'y', b'y', b'y', b'n', b'n', b'n', b'y', b'y', b'n', b'y', b'y', b'n', b'n', b'y', b'y', b'y', b'democrat'),\n",
       "       (b'y', b'n', b'y', b'n', b'n', b'n', b'y', b'n', b'y', b'y', b'y', b'n', b'n', b'n', b'y', b'y', b'democrat'),\n",
       "       (b'y', b'n', b'y', b'n', b'y', b'y', b'n', b'n', b'n', b'n', b'n', b'n', b'n', b'n', b'n', b'y', b'democrat'),\n",
       "       (b'y', b'n', b'y', b'n', b'y', b'y', b'n', b'y', b'n', b'n', b'y', b'n', b'y', b'y', b'y', b'y', b'democrat'),\n",
       "       (b'n', b'n', b'y', b'n', b'y', b'y', b'n', b'n', b'n', b'n', b'y', b'y', b'y', b'y', b'n', b'y', b'democrat'),\n",
       "       (b'y', b'n', b'n', b'n', b'y', b'y', b'y', b'n', b'n', b'y', b'y', b'n', b'n', b'y', b'n', b'y', b'democrat'),\n",
       "       (b'y', b'y', b'y', b'n', b'n', b'y', b'y', b'y', b'y', b'y', b'n', b'n', b'n', b'n', b'n', b'y', b'democrat'),\n",
       "       (b'n', b'n', b'n', b'y', b'y', b'y', b'n', b'n', b'n', b'y', b'n', b'y', b'y', b'y', b'n', b'n', b'republican'),\n",
       "       (b'y', b'n', b'n', b'n', b'y', b'y', b'n', b'n', b'n', b'n', b'y', b'y', b'n', b'y', b'n', b'y', b'democrat'),\n",
       "       (b'y', b'n', b'y', b'n', b'y', b'y', b'y', b'n', b'n', b'n', b'y', b'n', b'n', b'y', b'n', b'y', b'democrat'),\n",
       "       (b'y', b'n', b'y', b'n', b'y', b'y', b'y', b'n', b'n', b'n', b'y', b'n', b'y', b'y', b'y', b'y', b'democrat'),\n",
       "       (b'y', b'n', b'n', b'n', b'y', b'y', b'y', b'n', b'n', b'n', b'n', b'n', b'n', b'y', b'n', b'n', b'democrat'),\n",
       "       (b'n', b'y', b'y', b'n', b'n', b'y', b'y', b'y', b'y', b'y', b'n', b'n', b'y', b'y', b'n', b'y', b'democrat'),\n",
       "       (b'y', b'y', b'y', b'n', b'n', b'n', b'n', b'y', b'y', b'n', b'y', b'n', b'n', b'n', b'y', b'y', b'democrat'),\n",
       "       (b'n', b'y', b'n', b'y', b'y', b'y', b'n', b'n', b'n', b'n', b'n', b'y', b'y', b'y', b'n', b'y', b'republican'),\n",
       "       (b'n', b'y', b'y', b'n', b'y', b'y', b'y', b'y', b'n', b'n', b'n', b'n', b'y', b'y', b'n', b'y', b'republican'),\n",
       "       (b'y', b'y', b'y', b'n', b'n', b'n', b'y', b'y', b'y', b'n', b'n', b'n', b'n', b'n', b'y', b'y', b'democrat'),\n",
       "       (b'y', b'y', b'y', b'n', b'n', b'n', b'y', b'y', b'y', b'n', b'n', b'n', b'n', b'n', b'y', b'y', b'democrat'),\n",
       "       (b'n', b'n', b'y', b'n', b'n', b'n', b'y', b'y', b'y', b'y', b'n', b'n', b'n', b'n', b'y', b'y', b'democrat'),\n",
       "       (b'n', b'y', b'n', b'y', b'y', b'y', b'n', b'n', b'n', b'y', b'n', b'y', b'y', b'y', b'n', b'y', b'republican'),\n",
       "       (b'n', b'y', b'y', b'n', b'n', b'y', b'y', b'y', b'n', b'y', b'n', b'n', b'n', b'n', b'y', b'y', b'democrat'),\n",
       "       (b'n', b'y', b'n', b'y', b'y', b'y', b'n', b'n', b'n', b'y', b'n', b'y', b'y', b'y', b'n', b'n', b'republican'),\n",
       "       (b'y', b'y', b'y', b'n', b'n', b'n', b'y', b'y', b'y', b'n', b'n', b'n', b'n', b'n', b'y', b'y', b'democrat'),\n",
       "       (b'n', b'y', b'y', b'n', b'y', b'y', b'y', b'y', b'y', b'y', b'n', b'n', b'n', b'n', b'y', b'y', b'democrat'),\n",
       "       (b'y', b'n', b'y', b'n', b'n', b'n', b'y', b'y', b'y', b'n', b'y', b'n', b'n', b'n', b'y', b'y', b'democrat'),\n",
       "       (b'y', b'y', b'y', b'y', b'y', b'n', b'y', b'n', b'n', b'n', b'n', b'y', b'y', b'y', b'n', b'y', b'republican'),\n",
       "       (b'n', b'y', b'y', b'n', b'n', b'n', b'n', b'y', b'y', b'y', b'y', b'n', b'n', b'n', b'y', b'y', b'democrat'),\n",
       "       (b'n', b'n', b'n', b'y', b'y', b'y', b'n', b'n', b'n', b'n', b'n', b'y', b'y', b'y', b'n', b'n', b'republican'),\n",
       "       (b'n', b'y', b'y', b'y', b'y', b'y', b'n', b'n', b'n', b'y', b'n', b'y', b'y', b'y', b'n', b'y', b'republican'),\n",
       "       (b'n', b'y', b'n', b'y', b'y', b'y', b'n', b'n', b'n', b'y', b'n', b'y', b'y', b'y', b'n', b'y', b'republican'),\n",
       "       (b'n', b'n', b'n', b'y', b'y', b'y', b'n', b'n', b'n', b'y', b'n', b'y', b'n', b'y', b'n', b'y', b'republican'),\n",
       "       (b'y', b'y', b'n', b'y', b'y', b'y', b'n', b'y', b'n', b'n', b'n', b'y', b'y', b'y', b'n', b'y', b'republican'),\n",
       "       (b'n', b'y', b'y', b'n', b'n', b'n', b'y', b'y', b'y', b'n', b'n', b'n', b'n', b'n', b'y', b'y', b'democrat'),\n",
       "       (b'n', b'y', b'n', b'y', b'y', b'y', b'n', b'n', b'n', b'y', b'n', b'y', b'y', b'y', b'n', b'y', b'republican'),\n",
       "       (b'n', b'y', b'n', b'y', b'y', b'y', b'n', b'n', b'n', b'n', b'n', b'y', b'y', b'y', b'n', b'n', b'republican'),\n",
       "       (b'n', b'y', b'y', b'n', b'n', b'n', b'y', b'y', b'y', b'y', b'y', b'n', b'n', b'y', b'y', b'y', b'democrat'),\n",
       "       (b'n', b'y', b'y', b'n', b'n', b'y', b'n', b'y', b'n', b'y', b'y', b'n', b'n', b'n', b'y', b'y', b'democrat'),\n",
       "       (b'n', b'y', b'y', b'n', b'n', b'n', b'y', b'y', b'n', b'n', b'n', b'n', b'y', b'y', b'n', b'y', b'democrat'),\n",
       "       (b'y', b'y', b'y', b'n', b'y', b'y', b'y', b'y', b'y', b'n', b'n', b'n', b'n', b'n', b'y', b'y', b'democrat'),\n",
       "       (b'n', b'n', b'y', b'n', b'n', b'y', b'n', b'y', b'y', b'y', b'n', b'n', b'n', b'y', b'n', b'y', b'democrat'),\n",
       "       (b'n', b'n', b'n', b'y', b'y', b'y', b'n', b'n', b'n', b'y', b'n', b'y', b'y', b'y', b'n', b'y', b'republican'),\n",
       "       (b'n', b'n', b'n', b'y', b'y', b'y', b'n', b'n', b'n', b'y', b'n', b'y', b'y', b'y', b'n', b'y', b'republican'),\n",
       "       (b'n', b'n', b'n', b'y', b'y', b'y', b'n', b'n', b'n', b'n', b'n', b'y', b'y', b'y', b'n', b'y', b'republican'),\n",
       "       (b'n', b'n', b'n', b'y', b'y', b'y', b'n', b'n', b'n', b'y', b'n', b'y', b'y', b'y', b'n', b'n', b'republican'),\n",
       "       (b'n', b'y', b'n', b'y', b'y', b'y', b'n', b'n', b'n', b'y', b'y', b'y', b'y', b'n', b'n', b'y', b'republican'),\n",
       "       (b'n', b'y', b'y', b'n', b'n', b'y', b'y', b'y', b'y', b'y', b'n', b'n', b'n', b'y', b'y', b'y', b'democrat'),\n",
       "       (b'n', b'n', b'y', b'n', b'n', b'y', b'y', b'y', b'y', b'y', b'n', b'n', b'n', b'y', b'n', b'y', b'democrat'),\n",
       "       (b'y', b'n', b'y', b'n', b'n', b'y', b'y', b'y', b'y', b'n', b'n', b'n', b'n', b'n', b'y', b'y', b'democrat'),\n",
       "       (b'n', b'n', b'n', b'y', b'n', b'n', b'y', b'y', b'y', b'y', b'n', b'n', b'y', b'y', b'n', b'y', b'republican'),\n",
       "       (b'n', b'n', b'n', b'y', b'y', b'y', b'y', b'y', b'y', b'y', b'n', b'y', b'y', b'y', b'n', b'y', b'republican'),\n",
       "       (b'n', b'n', b'n', b'y', b'y', b'y', b'y', b'y', b'y', b'y', b'n', b'y', b'y', b'y', b'n', b'y', b'republican'),\n",
       "       (b'n', b'y', b'n', b'n', b'n', b'n', b'y', b'y', b'y', b'y', b'y', b'n', b'n', b'y', b'y', b'y', b'democrat'),\n",
       "       (b'n', b'y', b'n', b'n', b'n', b'y', b'y', b'y', b'y', b'y', b'n', b'n', b'n', b'y', b'n', b'y', b'democrat'),\n",
       "       (b'n', b'n', b'y', b'n', b'n', b'y', b'y', b'y', b'y', b'y', b'n', b'n', b'n', b'y', b'n', b'y', b'democrat'),\n",
       "       (b'n', b'y', b'n', b'y', b'y', b'y', b'n', b'n', b'n', b'n', b'n', b'y', b'y', b'y', b'n', b'y', b'republican'),\n",
       "       (b'n', b'n', b'n', b'n', b'n', b'n', b'y', b'y', b'y', b'y', b'n', b'y', b'y', b'y', b'y', b'y', b'democrat'),\n",
       "       (b'n', b'y', b'n', b'y', b'y', b'y', b'n', b'n', b'n', b'y', b'y', b'y', b'y', b'y', b'n', b'y', b'republican'),\n",
       "       (b'n', b'n', b'y', b'n', b'n', b'n', b'y', b'y', b'y', b'y', b'n', b'n', b'y', b'n', b'y', b'y', b'democrat'),\n",
       "       (b'y', b'y', b'n', b'y', b'y', b'y', b'n', b'n', b'n', b'y', b'n', b'y', b'y', b'y', b'n', b'y', b'republican'),\n",
       "       (b'y', b'y', b'y', b'y', b'y', b'y', b'n', b'n', b'y', b'n', b'y', b'n', b'y', b'y', b'n', b'n', b'democrat'),\n",
       "       (b'n', b'y', b'y', b'n', b'n', b'y', b'n', b'y', b'y', b'y', b'y', b'n', b'y', b'n', b'y', b'y', b'democrat'),\n",
       "       (b'n', b'n', b'y', b'n', b'n', b'y', b'y', b'y', b'y', b'y', b'y', b'n', b'y', b'y', b'n', b'y', b'democrat'),\n",
       "       (b'n', b'y', b'n', b'y', b'y', b'y', b'n', b'n', b'n', b'n', b'n', b'y', b'y', b'y', b'n', b'n', b'republican'),\n",
       "       (b'y', b'y', b'n', b'y', b'y', b'y', b'n', b'y', b'n', b'n', b'y', b'y', b'y', b'y', b'n', b'n', b'republican'),\n",
       "       (b'y', b'y', b'n', b'y', b'y', b'y', b'y', b'n', b'n', b'n', b'n', b'y', b'y', b'y', b'n', b'n', b'republican'),\n",
       "       (b'n', b'y', b'y', b'n', b'n', b'y', b'n', b'y', b'y', b'n', b'y', b'n', b'y', b'y', b'n', b'y', b'democrat'),\n",
       "       (b'n', b'y', b'n', b'y', b'y', b'y', b'n', b'n', b'n', b'y', b'n', b'y', b'y', b'y', b'n', b'n', b'republican'),\n",
       "       (b'n', b'y', b'y', b'n', b'y', b'y', b'y', b'y', b'y', b'y', b'y', b'n', b'n', b'y', b'n', b'y', b'democrat'),\n",
       "       (b'n', b'y', b'n', b'n', b'y', b'y', b'n', b'n', b'n', b'n', b'n', b'y', b'y', b'y', b'y', b'y', b'democrat'),\n",
       "       (b'n', b'n', b'n', b'n', b'y', b'y', b'y', b'n', b'n', b'n', b'n', b'y', b'y', b'y', b'n', b'y', b'democrat'),\n",
       "       (b'n', b'y', b'y', b'n', b'y', b'y', b'y', b'n', b'n', b'n', b'y', b'y', b'y', b'y', b'n', b'y', b'democrat'),\n",
       "       (b'n', b'y', b'n', b'y', b'y', b'y', b'y', b'n', b'n', b'n', b'n', b'y', b'y', b'y', b'n', b'y', b'republican'),\n",
       "       (b'y', b'y', b'n', b'n', b'y', b'y', b'n', b'n', b'n', b'y', b'y', b'y', b'y', b'y', b'n', b'y', b'democrat'),\n",
       "       (b'n', b'y', b'y', b'n', b'n', b'y', b'y', b'y', b'y', b'y', b'y', b'n', b'y', b'n', b'y', b'y', b'democrat'),\n",
       "       (b'y', b'n', b'y', b'y', b'y', b'y', b'y', b'y', b'n', b'y', b'n', b'y', b'n', b'y', b'y', b'y', b'republican'),\n",
       "       (b'y', b'n', b'y', b'y', b'y', b'y', b'y', b'y', b'n', b'y', b'y', b'y', b'n', b'y', b'y', b'y', b'republican'),\n",
       "       (b'n', b'n', b'y', b'y', b'y', b'y', b'n', b'n', b'y', b'n', b'n', b'n', b'y', b'y', b'y', b'y', b'democrat'),\n",
       "       (b'y', b'n', b'y', b'n', b'n', b'n', b'y', b'y', b'y', b'y', b'y', b'n', b'n', b'y', b'n', b'y', b'democrat'),\n",
       "       (b'y', b'n', b'y', b'n', b'n', b'n', b'y', b'y', b'y', b'n', b'n', b'n', b'n', b'n', b'y', b'y', b'democrat'),\n",
       "       (b'n', b'y', b'n', b'y', b'y', b'y', b'n', b'n', b'n', b'y', b'n', b'y', b'y', b'y', b'n', b'y', b'republican'),\n",
       "       (b'n', b'y', b'y', b'n', b'n', b'n', b'y', b'y', b'y', b'y', b'n', b'n', b'y', b'n', b'y', b'y', b'democrat'),\n",
       "       (b'n', b'n', b'n', b'n', b'y', b'y', b'n', b'n', b'n', b'y', b'y', b'y', b'y', b'y', b'n', b'y', b'democrat'),\n",
       "       (b'y', b'y', b'y', b'n', b'n', b'n', b'y', b'y', b'y', b'n', b'n', b'n', b'n', b'n', b'y', b'y', b'democrat'),\n",
       "       (b'n', b'y', b'y', b'n', b'n', b'n', b'y', b'y', b'y', b'y', b'n', b'n', b'n', b'n', b'y', b'y', b'democrat'),\n",
       "       (b'n', b'n', b'y', b'y', b'n', b'n', b'y', b'y', b'y', b'y', b'n', b'n', b'n', b'y', b'y', b'y', b'republican'),\n",
       "       (b'n', b'n', b'y', b'n', b'n', b'n', b'y', b'y', b'y', b'y', b'y', b'n', b'n', b'n', b'y', b'y', b'democrat'),\n",
       "       (b'n', b'n', b'y', b'n', b'n', b'n', b'y', b'y', b'y', b'y', b'y', b'n', b'n', b'n', b'y', b'y', b'democrat'),\n",
       "       (b'y', b'n', b'y', b'n', b'n', b'n', b'y', b'y', b'y', b'y', b'n', b'n', b'n', b'n', b'y', b'y', b'democrat'),\n",
       "       (b'n', b'y', b'y', b'n', b'n', b'n', b'y', b'y', b'y', b'n', b'n', b'n', b'n', b'n', b'n', b'y', b'democrat'),\n",
       "       (b'n', b'n', b'y', b'n', b'n', b'n', b'y', b'y', b'y', b'y', b'y', b'n', b'n', b'n', b'y', b'y', b'democrat'),\n",
       "       (b'y', b'y', b'y', b'n', b'n', b'n', b'y', b'y', b'y', b'n', b'n', b'n', b'n', b'n', b'y', b'y', b'democrat'),\n",
       "       (b'n', b'y', b'y', b'n', b'y', b'y', b'y', b'y', b'y', b'n', b'n', b'n', b'y', b'y', b'n', b'y', b'democrat'),\n",
       "       (b'n', b'n', b'y', b'n', b'n', b'n', b'y', b'y', b'y', b'y', b'y', b'n', b'n', b'n', b'y', b'y', b'democrat'),\n",
       "       (b'y', b'n', b'y', b'n', b'n', b'n', b'y', b'y', b'y', b'y', b'n', b'n', b'n', b'n', b'y', b'y', b'democrat'),\n",
       "       (b'n', b'y', b'y', b'n', b'n', b'n', b'y', b'y', b'y', b'y', b'y', b'n', b'n', b'n', b'y', b'y', b'democrat'),\n",
       "       (b'y', b'n', b'y', b'n', b'n', b'n', b'y', b'y', b'y', b'n', b'n', b'n', b'n', b'n', b'y', b'y', b'democrat'),\n",
       "       (b'y', b'y', b'n', b'y', b'y', b'y', b'y', b'y', b'n', b'n', b'n', b'y', b'y', b'y', b'n', b'y', b'republican'),\n",
       "       (b'y', b'n', b'y', b'n', b'n', b'n', b'y', b'y', b'y', b'n', b'n', b'n', b'n', b'n', b'y', b'y', b'democrat'),\n",
       "       (b'n', b'y', b'n', b'y', b'y', b'y', b'n', b'n', b'n', b'n', b'n', b'y', b'y', b'y', b'n', b'y', b'republican'),\n",
       "       (b'n', b'y', b'n', b'y', b'y', b'y', b'n', b'y', b'n', b'y', b'n', b'y', b'y', b'y', b'n', b'y', b'republican'),\n",
       "       (b'n', b'n', b'n', b'n', b'n', b'y', b'y', b'y', b'y', b'n', b'y', b'n', b'n', b'y', b'y', b'y', b'democrat'),\n",
       "       (b'n', b'n', b'y', b'n', b'n', b'n', b'y', b'y', b'y', b'n', b'n', b'n', b'n', b'n', b'y', b'y', b'democrat'),\n",
       "       (b'n', b'n', b'y', b'n', b'n', b'y', b'y', b'y', b'y', b'y', b'y', b'n', b'n', b'n', b'y', b'y', b'democrat'),\n",
       "       (b'n', b'n', b'n', b'y', b'y', b'y', b'n', b'n', b'n', b'n', b'n', b'y', b'y', b'y', b'n', b'y', b'republican'),\n",
       "       (b'n', b'n', b'y', b'n', b'n', b'y', b'y', b'y', b'y', b'n', b'y', b'y', b'n', b'y', b'y', b'y', b'democrat'),\n",
       "       (b'n', b'y', b'y', b'y', b'y', b'y', b'n', b'n', b'n', b'y', b'n', b'n', b'n', b'y', b'n', b'y', b'republican'),\n",
       "       (b'n', b'n', b'y', b'n', b'n', b'n', b'y', b'y', b'y', b'y', b'y', b'n', b'y', b'n', b'y', b'y', b'democrat'),\n",
       "       (b'y', b'y', b'n', b'n', b'n', b'n', b'y', b'y', b'n', b'n', b'y', b'n', b'n', b'n', b'y', b'y', b'democrat'),\n",
       "       (b'n', b'n', b'y', b'n', b'n', b'n', b'y', b'y', b'y', b'n', b'n', b'n', b'n', b'y', b'y', b'y', b'democrat'),\n",
       "       (b'y', b'y', b'y', b'n', b'n', b'n', b'y', b'y', b'y', b'n', b'n', b'n', b'n', b'n', b'y', b'y', b'democrat'),\n",
       "       (b'y', b'n', b'y', b'n', b'n', b'y', b'y', b'y', b'y', b'y', b'y', b'n', b'n', b'n', b'y', b'y', b'democrat'),\n",
       "       (b'y', b'n', b'y', b'n', b'n', b'n', b'y', b'y', b'y', b'y', b'n', b'n', b'n', b'n', b'y', b'y', b'democrat'),\n",
       "       (b'n', b'n', b'y', b'y', b'y', b'y', b'y', b'n', b'n', b'n', b'n', b'y', b'y', b'y', b'n', b'y', b'republican'),\n",
       "       (b'n', b'n', b'y', b'n', b'n', b'y', b'y', b'y', b'y', b'y', b'n', b'y', b'n', b'n', b'n', b'y', b'democrat'),\n",
       "       (b'n', b'n', b'n', b'y', b'y', b'y', b'n', b'n', b'n', b'y', b'n', b'y', b'n', b'y', b'n', b'y', b'republican'),\n",
       "       (b'y', b'y', b'n', b'y', b'y', b'y', b'y', b'n', b'n', b'y', b'n', b'y', b'y', b'y', b'n', b'y', b'republican'),\n",
       "       (b'n', b'n', b'y', b'n', b'n', b'n', b'y', b'y', b'y', b'n', b'n', b'n', b'n', b'n', b'y', b'y', b'democrat'),\n",
       "       (b'y', b'y', b'y', b'n', b'n', b'n', b'y', b'y', b'y', b'y', b'y', b'n', b'n', b'n', b'n', b'y', b'democrat'),\n",
       "       (b'n', b'n', b'y', b'n', b'n', b'y', b'y', b'y', b'y', b'n', b'n', b'n', b'n', b'n', b'y', b'y', b'democrat'),\n",
       "       (b'n', b'y', b'n', b'y', b'y', b'y', b'n', b'n', b'n', b'y', b'n', b'y', b'y', b'y', b'n', b'y', b'republican'),\n",
       "       (b'n', b'n', b'y', b'n', b'n', b'n', b'y', b'y', b'y', b'n', b'y', b'n', b'n', b'n', b'y', b'y', b'democrat'),\n",
       "       (b'n', b'y', b'y', b'n', b'n', b'y', b'n', b'y', b'y', b'n', b'y', b'n', b'y', b'n', b'y', b'y', b'democrat'),\n",
       "       (b'y', b'y', b'n', b'y', b'y', b'y', b'n', b'n', b'n', b'y', b'n', b'y', b'y', b'y', b'n', b'y', b'republican'),\n",
       "       (b'n', b'y', b'y', b'y', b'y', b'y', b'n', b'n', b'n', b'y', b'y', b'y', b'y', b'y', b'y', b'y', b'democrat'),\n",
       "       (b'y', b'y', b'y', b'n', b'y', b'y', b'n', b'n', b'n', b'y', b'n', b'n', b'n', b'y', b'y', b'y', b'democrat'),\n",
       "       (b'n', b'y', b'n', b'y', b'y', b'y', b'n', b'n', b'n', b'y', b'n', b'y', b'y', b'y', b'n', b'n', b'republican'),\n",
       "       (b'y', b'y', b'y', b'n', b'n', b'n', b'y', b'y', b'y', b'n', b'n', b'n', b'n', b'n', b'y', b'y', b'democrat'),\n",
       "       (b'n', b'y', b'y', b'n', b'n', b'n', b'n', b'y', b'y', b'n', b'y', b'n', b'n', b'y', b'y', b'y', b'democrat'),\n",
       "       (b'n', b'n', b'y', b'n', b'n', b'n', b'y', b'y', b'y', b'n', b'n', b'n', b'n', b'n', b'y', b'y', b'democrat'),\n",
       "       (b'n', b'y', b'y', b'n', b'y', b'y', b'n', b'n', b'n', b'n', b'y', b'n', b'n', b'n', b'y', b'y', b'democrat'),\n",
       "       (b'y', b'n', b'y', b'n', b'n', b'n', b'y', b'y', b'y', b'n', b'y', b'n', b'n', b'n', b'y', b'y', b'democrat'),\n",
       "       (b'n', b'n', b'n', b'y', b'y', b'n', b'n', b'n', b'n', b'n', b'n', b'y', b'y', b'y', b'n', b'y', b'republican'),\n",
       "       (b'n', b'y', b'n', b'y', b'y', b'y', b'n', b'n', b'n', b'y', b'n', b'n', b'y', b'y', b'n', b'n', b'republican'),\n",
       "       (b'n', b'y', b'n', b'y', b'y', b'y', b'n', b'n', b'n', b'n', b'n', b'y', b'y', b'y', b'n', b'y', b'republican'),\n",
       "       (b'n', b'n', b'y', b'n', b'n', b'y', b'y', b'y', b'y', b'n', b'y', b'n', b'n', b'y', b'y', b'y', b'democrat'),\n",
       "       (b'y', b'n', b'y', b'n', b'n', b'n', b'y', b'y', b'y', b'n', b'n', b'n', b'n', b'n', b'n', b'y', b'democrat'),\n",
       "       (b'n', b'y', b'n', b'y', b'y', b'y', b'n', b'n', b'n', b'n', b'n', b'y', b'y', b'y', b'n', b'y', b'republican'),\n",
       "       (b'n', b'y', b'y', b'y', b'y', b'y', b'y', b'n', b'y', b'y', b'n', b'y', b'y', b'y', b'n', b'y', b'republican'),\n",
       "       (b'n', b'y', b'n', b'y', b'y', b'y', b'n', b'n', b'n', b'n', b'n', b'y', b'y', b'y', b'n', b'y', b'republican'),\n",
       "       (b'n', b'y', b'n', b'y', b'y', b'y', b'n', b'n', b'y', b'y', b'n', b'y', b'y', b'y', b'n', b'y', b'republican'),\n",
       "       (b'n', b'y', b'y', b'n', b'n', b'n', b'y', b'y', b'n', b'n', b'y', b'n', b'n', b'n', b'y', b'y', b'democrat'),\n",
       "       (b'n', b'y', b'n', b'y', b'y', b'y', b'n', b'n', b'n', b'y', b'n', b'y', b'y', b'y', b'n', b'y', b'republican'),\n",
       "       (b'n', b'n', b'y', b'n', b'n', b'y', b'y', b'y', b'y', b'y', b'n', b'y', b'n', b'y', b'y', b'y', b'democrat'),\n",
       "       (b'n', b'n', b'n', b'y', b'y', b'y', b'n', b'n', b'n', b'y', b'n', b'y', b'n', b'y', b'n', b'y', b'republican'),\n",
       "       (b'n', b'n', b'y', b'n', b'n', b'n', b'y', b'y', b'y', b'n', b'n', b'n', b'n', b'n', b'y', b'y', b'democrat'),\n",
       "       (b'y', b'n', b'y', b'n', b'n', b'y', b'y', b'y', b'n', b'n', b'n', b'y', b'y', b'n', b'n', b'y', b'democrat'),\n",
       "       (b'y', b'y', b'y', b'n', b'n', b'n', b'y', b'y', b'n', b'y', b'n', b'n', b'n', b'n', b'y', b'y', b'democrat'),\n",
       "       (b'n', b'n', b'n', b'y', b'y', b'y', b'y', b'n', b'n', b'y', b'n', b'n', b'n', b'y', b'y', b'y', b'republican'),\n",
       "       (b'n', b'n', b'n', b'y', b'n', b'y', b'y', b'y', b'y', b'n', b'n', b'y', b'y', b'y', b'n', b'y', b'republican'),\n",
       "       (b'y', b'n', b'y', b'n', b'n', b'n', b'y', b'y', b'y', b'y', b'y', b'n', b'n', b'y', b'y', b'y', b'democrat'),\n",
       "       (b'n', b'n', b'n', b'n', b'y', b'y', b'y', b'n', b'n', b'n', b'n', b'n', b'n', b'y', b'y', b'y', b'republican'),\n",
       "       (b'n', b'y', b'y', b'n', b'n', b'n', b'y', b'y', b'n', b'y', b'n', b'n', b'y', b'n', b'y', b'y', b'democrat'),\n",
       "       (b'y', b'n', b'y', b'n', b'n', b'n', b'n', b'y', b'y', b'y', b'n', b'n', b'n', b'n', b'y', b'y', b'democrat'),\n",
       "       (b'y', b'n', b'y', b'n', b'n', b'n', b'y', b'y', b'y', b'y', b'y', b'n', b'n', b'n', b'y', b'y', b'democrat'),\n",
       "       (b'n', b'n', b'y', b'n', b'y', b'n', b'y', b'y', b'y', b'n', b'n', b'n', b'n', b'y', b'n', b'y', b'democrat'),\n",
       "       (b'n', b'y', b'n', b'y', b'y', b'y', b'y', b'n', b'n', b'n', b'n', b'n', b'y', b'y', b'n', b'n', b'republican'),\n",
       "       (b'n', b'y', b'y', b'n', b'y', b'y', b'y', b'y', b'n', b'n', b'n', b'n', b'y', b'y', b'n', b'y', b'republican'),\n",
       "       (b'y', b'n', b'y', b'n', b'n', b'n', b'y', b'y', b'n', b'n', b'y', b'n', b'n', b'n', b'y', b'y', b'democrat'),\n",
       "       (b'n', b'y', b'n', b'y', b'y', b'y', b'n', b'n', b'n', b'n', b'n', b'y', b'y', b'y', b'n', b'n', b'republican'),\n",
       "       (b'n', b'y', b'n', b'y', b'y', b'y', b'n', b'n', b'n', b'n', b'n', b'y', b'y', b'y', b'n', b'n', b'republican'),\n",
       "       (b'y', b'y', b'y', b'n', b'n', b'y', b'y', b'y', b'y', b'n', b'n', b'n', b'n', b'n', b'y', b'y', b'democrat'),\n",
       "       (b'n', b'y', b'n', b'y', b'y', b'y', b'n', b'n', b'n', b'n', b'n', b'y', b'y', b'y', b'n', b'y', b'republican'),\n",
       "       (b'y', b'n', b'y', b'n', b'n', b'n', b'y', b'y', b'y', b'y', b'n', b'n', b'n', b'n', b'n', b'y', b'democrat'),\n",
       "       (b'y', b'n', b'y', b'n', b'n', b'n', b'y', b'y', b'y', b'y', b'n', b'n', b'n', b'y', b'y', b'y', b'democrat'),\n",
       "       (b'n', b'n', b'n', b'y', b'y', b'n', b'n', b'n', b'n', b'n', b'n', b'y', b'n', b'y', b'n', b'n', b'republican'),\n",
       "       (b'n', b'n', b'n', b'y', b'y', b'n', b'n', b'n', b'n', b'n', b'n', b'y', b'n', b'y', b'n', b'y', b'republican'),\n",
       "       (b'n', b'n', b'y', b'n', b'n', b'n', b'y', b'y', b'y', b'n', b'y', b'n', b'n', b'n', b'y', b'y', b'democrat'),\n",
       "       (b'y', b'n', b'y', b'n', b'n', b'n', b'y', b'y', b'y', b'n', b'n', b'n', b'n', b'n', b'n', b'y', b'democrat'),\n",
       "       (b'y', b'n', b'y', b'n', b'n', b'n', b'y', b'y', b'y', b'y', b'n', b'n', b'n', b'n', b'n', b'y', b'democrat'),\n",
       "       (b'y', b'n', b'y', b'n', b'n', b'y', b'y', b'y', b'y', b'n', b'n', b'n', b'n', b'y', b'n', b'y', b'democrat'),\n",
       "       (b'y', b'n', b'y', b'n', b'n', b'n', b'y', b'y', b'y', b'y', b'n', b'n', b'y', b'n', b'y', b'y', b'democrat'),\n",
       "       (b'y', b'n', b'y', b'n', b'n', b'n', b'y', b'y', b'y', b'n', b'n', b'n', b'n', b'n', b'y', b'y', b'democrat'),\n",
       "       (b'y', b'n', b'y', b'n', b'n', b'n', b'y', b'y', b'y', b'n', b'n', b'n', b'n', b'n', b'y', b'y', b'democrat'),\n",
       "       (b'y', b'n', b'y', b'n', b'n', b'n', b'y', b'y', b'y', b'y', b'n', b'n', b'n', b'n', b'n', b'y', b'democrat'),\n",
       "       (b'n', b'n', b'n', b'y', b'y', b'y', b'n', b'n', b'n', b'y', b'n', b'y', b'n', b'y', b'n', b'y', b'republican'),\n",
       "       (b'y', b'n', b'n', b'n', b'n', b'n', b'y', b'y', b'y', b'y', b'n', b'n', b'n', b'y', b'n', b'y', b'republican'),\n",
       "       (b'y', b'n', b'y', b'n', b'n', b'n', b'y', b'y', b'y', b'n', b'n', b'n', b'n', b'n', b'y', b'y', b'democrat'),\n",
       "       (b'y', b'n', b'y', b'n', b'n', b'n', b'y', b'y', b'y', b'n', b'n', b'n', b'n', b'n', b'n', b'y', b'democrat'),\n",
       "       (b'y', b'y', b'y', b'n', b'n', b'n', b'y', b'y', b'y', b'n', b'n', b'n', b'n', b'n', b'y', b'y', b'democrat'),\n",
       "       (b'n', b'y', b'y', b'n', b'n', b'y', b'y', b'y', b'y', b'n', b'n', b'n', b'n', b'n', b'n', b'y', b'democrat'),\n",
       "       (b'y', b'n', b'y', b'n', b'n', b'n', b'y', b'y', b'y', b'y', b'n', b'n', b'n', b'n', b'y', b'y', b'democrat'),\n",
       "       (b'n', b'n', b'n', b'y', b'y', b'n', b'y', b'y', b'n', b'y', b'n', b'y', b'y', b'y', b'n', b'y', b'republican'),\n",
       "       (b'y', b'n', b'n', b'y', b'y', b'n', b'y', b'n', b'n', b'y', b'n', b'n', b'n', b'y', b'y', b'y', b'republican'),\n",
       "       (b'n', b'n', b'y', b'n', b'y', b'y', b'n', b'n', b'n', b'n', b'n', b'n', b'y', b'y', b'n', b'n', b'democrat'),\n",
       "       (b'n', b'n', b'n', b'y', b'y', b'y', b'n', b'n', b'n', b'n', b'n', b'y', b'y', b'y', b'y', b'n', b'republican'),\n",
       "       (b'n', b'n', b'y', b'y', b'y', b'y', b'y', b'y', b'n', b'y', b'n', b'n', b'n', b'y', b'n', b'y', b'republican'),\n",
       "       (b'n', b'n', b'n', b'y', b'y', b'y', b'n', b'n', b'n', b'n', b'n', b'y', b'y', b'y', b'n', b'y', b'republican'),\n",
       "       (b'n', b'n', b'n', b'y', b'y', b'y', b'n', b'n', b'n', b'y', b'n', b'y', b'y', b'y', b'n', b'n', b'republican'),\n",
       "       (b'n', b'n', b'y', b'n', b'n', b'n', b'y', b'y', b'y', b'y', b'n', b'n', b'n', b'y', b'n', b'y', b'democrat'),\n",
       "       (b'y', b'n', b'y', b'y', b'y', b'y', b'y', b'y', b'n', b'n', b'n', b'n', b'n', b'y', b'n', b'y', b'republican'),\n",
       "       (b'y', b'n', b'n', b'y', b'y', b'y', b'n', b'n', b'n', b'y', b'n', b'n', b'y', b'y', b'n', b'n', b'republican'),\n",
       "       (b'n', b'n', b'n', b'y', b'y', b'y', b'n', b'n', b'n', b'n', b'n', b'y', b'y', b'y', b'n', b'y', b'republican'),\n",
       "       (b'n', b'n', b'y', b'n', b'n', b'y', b'y', b'y', b'y', b'y', b'y', b'n', b'n', b'n', b'n', b'y', b'democrat'),\n",
       "       (b'n', b'n', b'y', b'n', b'n', b'y', b'y', b'y', b'y', b'y', b'y', b'n', b'n', b'n', b'y', b'y', b'democrat'),\n",
       "       (b'n', b'n', b'y', b'n', b'n', b'y', b'y', b'y', b'n', b'y', b'y', b'y', b'n', b'y', b'y', b'y', b'democrat'),\n",
       "       (b'y', b'y', b'y', b'n', b'n', b'y', b'y', b'y', b'y', b'n', b'y', b'n', b'y', b'n', b'n', b'y', b'democrat'),\n",
       "       (b'y', b'y', b'y', b'n', b'y', b'y', b'n', b'y', b'n', b'y', b'y', b'n', b'y', b'y', b'y', b'y', b'democrat'),\n",
       "       (b'y', b'y', b'y', b'n', b'y', b'y', b'n', b'y', b'n', b'y', b'y', b'n', b'y', b'y', b'n', b'y', b'democrat'),\n",
       "       (b'y', b'n', b'y', b'n', b'y', b'y', b'y', b'y', b'y', b'y', b'n', b'n', b'y', b'y', b'n', b'y', b'democrat'),\n",
       "       (b'y', b'n', b'y', b'n', b'n', b'y', b'y', b'y', b'y', b'y', b'n', b'n', b'n', b'y', b'n', b'y', b'democrat'),\n",
       "       (b'y', b'n', b'y', b'n', b'n', b'y', b'y', b'y', b'n', b'y', b'y', b'n', b'y', b'y', b'y', b'y', b'democrat'),\n",
       "       (b'y', b'y', b'y', b'n', b'n', b'y', b'y', b'y', b'y', b'y', b'y', b'n', b'y', b'y', b'y', b'y', b'democrat'),\n",
       "       (b'n', b'y', b'y', b'n', b'n', b'y', b'y', b'y', b'n', b'y', b'y', b'n', b'y', b'y', b'n', b'y', b'democrat'),\n",
       "       (b'n', b'y', b'n', b'y', b'y', b'y', b'y', b'y', b'n', b'y', b'n', b'y', b'y', b'y', b'n', b'y', b'republican'),\n",
       "       (b'n', b'n', b'y', b'y', b'y', b'y', b'n', b'n', b'n', b'y', b'n', b'y', b'y', b'y', b'y', b'y', b'republican'),\n",
       "       (b'y', b'y', b'y', b'n', b'n', b'y', b'y', b'y', b'y', b'y', b'n', b'n', b'y', b'n', b'y', b'y', b'democrat'),\n",
       "       (b'n', b'y', b'n', b'n', b'n', b'n', b'y', b'y', b'y', b'y', b'y', b'n', b'n', b'n', b'y', b'y', b'democrat'),\n",
       "       (b'n', b'y', b'y', b'n', b'n', b'y', b'y', b'y', b'y', b'y', b'n', b'n', b'y', b'y', b'y', b'y', b'democrat'),\n",
       "       (b'n', b'n', b'n', b'y', b'y', b'n', b'y', b'y', b'y', b'y', b'n', b'y', b'y', b'y', b'n', b'y', b'republican'),\n",
       "       (b'n', b'n', b'y', b'n', b'n', b'y', b'y', b'y', b'y', b'n', b'n', b'n', b'n', b'n', b'y', b'y', b'democrat'),\n",
       "       (b'n', b'n', b'n', b'y', b'y', b'y', b'y', b'n', b'n', b'y', b'n', b'y', b'y', b'y', b'n', b'y', b'republican'),\n",
       "       (b'n', b'n', b'n', b'y', b'y', b'y', b'n', b'n', b'n', b'n', b'n', b'y', b'y', b'y', b'n', b'n', b'republican'),\n",
       "       (b'n', b'y', b'n', b'y', b'y', b'y', b'n', b'n', b'n', b'y', b'n', b'y', b'y', b'y', b'n', b'y', b'republican'),\n",
       "       (b'n', b'n', b'n', b'y', b'y', b'y', b'n', b'n', b'n', b'y', b'n', b'y', b'y', b'y', b'n', b'n', b'republican'),\n",
       "       (b'n', b'n', b'n', b'y', b'y', b'y', b'n', b'n', b'n', b'n', b'n', b'y', b'y', b'y', b'n', b'n', b'republican'),\n",
       "       (b'y', b'n', b'y', b'n', b'n', b'y', b'y', b'y', b'y', b'n', b'n', b'n', b'n', b'y', b'n', b'y', b'democrat'),\n",
       "       (b'n', b'n', b'n', b'y', b'y', b'y', b'n', b'n', b'n', b'y', b'n', b'y', b'y', b'y', b'n', b'n', b'republican'),\n",
       "       (b'y', b'n', b'n', b'n', b'n', b'y', b'y', b'y', b'y', b'y', b'n', b'n', b'n', b'y', b'y', b'y', b'democrat'),\n",
       "       (b'n', b'n', b'n', b'y', b'y', b'y', b'n', b'n', b'n', b'y', b'n', b'y', b'y', b'y', b'y', b'n', b'republican'),\n",
       "       (b'n', b'n', b'y', b'n', b'n', b'y', b'y', b'y', b'y', b'y', b'n', b'n', b'y', b'n', b'n', b'y', b'democrat'),\n",
       "       (b'y', b'y', b'y', b'n', b'n', b'n', b'y', b'y', b'y', b'y', b'n', b'n', b'n', b'n', b'y', b'y', b'democrat'),\n",
       "       (b'n', b'y', b'y', b'y', b'y', b'y', b'n', b'n', b'n', b'y', b'n', b'y', b'y', b'y', b'n', b'y', b'republican'),\n",
       "       (b'n', b'y', b'n', b'y', b'y', b'y', b'y', b'y', b'n', b'n', b'y', b'y', b'y', b'y', b'y', b'y', b'republican'),\n",
       "       (b'n', b'y', b'y', b'y', b'y', b'y', b'y', b'y', b'n', b'n', b'n', b'n', b'y', b'y', b'y', b'y', b'republican'),\n",
       "       (b'n', b'n', b'n', b'n', b'n', b'y', b'n', b'y', b'y', b'n', b'y', b'y', b'y', b'y', b'y', b'n', b'democrat'),\n",
       "       (b'y', b'n', b'n', b'n', b'n', b'n', b'y', b'y', b'y', b'y', b'n', b'n', b'n', b'n', b'y', b'y', b'democrat'),\n",
       "       (b'n', b'n', b'y', b'n', b'n', b'n', b'y', b'y', b'y', b'n', b'n', b'n', b'n', b'n', b'y', b'y', b'democrat'),\n",
       "       (b'y', b'n', b'y', b'n', b'n', b'n', b'y', b'y', b'y', b'n', b'n', b'n', b'n', b'n', b'y', b'y', b'democrat'),\n",
       "       (b'n', b'y', b'y', b'n', b'n', b'y', b'n', b'y', b'y', b'y', b'n', b'n', b'y', b'y', b'n', b'y', b'democrat'),\n",
       "       (b'y', b'y', b'y', b'n', b'n', b'n', b'y', b'y', b'y', b'y', b'n', b'n', b'y', b'n', b'n', b'y', b'democrat'),\n",
       "       (b'y', b'y', b'y', b'n', b'y', b'y', b'n', b'y', b'n', b'n', b'y', b'n', b'y', b'y', b'n', b'y', b'democrat'),\n",
       "       (b'y', b'y', b'y', b'n', b'y', b'y', b'n', b'y', b'n', b'y', b'n', b'n', b'y', b'y', b'n', b'y', b'democrat'),\n",
       "       (b'n', b'y', b'n', b'y', b'y', b'y', b'n', b'n', b'n', b'n', b'y', b'y', b'y', b'y', b'n', b'n', b'republican'),\n",
       "       (b'n', b'y', b'n', b'n', b'y', b'y', b'n', b'n', b'n', b'n', b'n', b'y', b'y', b'y', b'n', b'y', b'democrat'),\n",
       "       (b'y', b'y', b'n', b'y', b'n', b'n', b'y', b'y', b'y', b'n', b'y', b'n', b'n', b'y', b'n', b'y', b'democrat'),\n",
       "       (b'n', b'y', b'n', b'y', b'y', b'y', b'n', b'n', b'n', b'n', b'n', b'y', b'y', b'y', b'n', b'y', b'republican'),\n",
       "       (b'y', b'y', b'y', b'n', b'n', b'n', b'y', b'y', b'y', b'n', b'y', b'n', b'n', b'n', b'n', b'y', b'democrat'),\n",
       "       (b'y', b'y', b'y', b'n', b'n', b'y', b'y', b'y', b'y', b'y', b'n', b'n', b'n', b'n', b'y', b'y', b'democrat'),\n",
       "       (b'n', b'y', b'n', b'y', b'y', b'y', b'n', b'n', b'n', b'y', b'n', b'y', b'y', b'y', b'n', b'n', b'republican'),\n",
       "       (b'y', b'y', b'y', b'n', b'n', b'n', b'y', b'y', b'y', b'n', b'n', b'n', b'n', b'n', b'y', b'y', b'democrat'),\n",
       "       (b'y', b'n', b'y', b'n', b'n', b'n', b'y', b'y', b'y', b'n', b'y', b'n', b'n', b'n', b'y', b'y', b'democrat'),\n",
       "       (b'n', b'n', b'y', b'n', b'n', b'n', b'y', b'y', b'y', b'n', b'n', b'n', b'n', b'n', b'y', b'y', b'democrat'),\n",
       "       (b'n', b'y', b'y', b'n', b'n', b'y', b'y', b'y', b'n', b'n', b'y', b'y', b'n', b'n', b'y', b'y', b'democrat'),\n",
       "       (b'n', b'n', b'n', b'y', b'y', b'y', b'n', b'n', b'n', b'y', b'y', b'y', b'y', b'y', b'n', b'y', b'republican'),\n",
       "       (b'n', b'n', b'y', b'n', b'n', b'y', b'y', b'y', b'n', b'n', b'y', b'n', b'n', b'y', b'n', b'y', b'democrat'),\n",
       "       (b'y', b'n', b'y', b'n', b'n', b'n', b'y', b'y', b'y', b'n', b'n', b'n', b'n', b'n', b'y', b'y', b'democrat'),\n",
       "       (b'y', b'n', b'y', b'n', b'n', b'n', b'y', b'y', b'y', b'y', b'n', b'n', b'n', b'y', b'y', b'y', b'democrat'),\n",
       "       (b'y', b'n', b'n', b'y', b'y', b'y', b'n', b'n', b'n', b'n', b'y', b'y', b'y', b'y', b'n', b'n', b'republican'),\n",
       "       (b'n', b'n', b'n', b'y', b'y', b'y', b'n', b'n', b'n', b'y', b'y', b'y', b'n', b'y', b'n', b'y', b'republican'),\n",
       "       (b'n', b'y', b'y', b'n', b'n', b'y', b'y', b'y', b'y', b'y', b'y', b'n', b'y', b'y', b'y', b'y', b'democrat'),\n",
       "       (b'n', b'y', b'y', b'n', b'y', b'y', b'y', b'n', b'n', b'y', b'y', b'n', b'y', b'n', b'y', b'y', b'democrat'),\n",
       "       (b'n', b'n', b'n', b'y', b'y', b'n', b'y', b'n', b'y', b'y', b'n', b'n', b'n', b'y', b'n', b'y', b'republican'),\n",
       "       (b'n', b'n', b'y', b'n', b'n', b'n', b'y', b'y', b'y', b'y', b'y', b'n', b'n', b'n', b'y', b'y', b'democrat'),\n",
       "       (b'n', b'n', b'n', b'y', b'y', b'y', b'y', b'n', b'n', b'y', b'n', b'y', b'n', b'y', b'y', b'y', b'republican'),\n",
       "       (b'n', b'n', b'n', b'y', b'y', b'y', b'n', b'n', b'n', b'y', b'n', b'y', b'y', b'y', b'n', b'y', b'republican'),\n",
       "       (b'y', b'n', b'n', b'y', b'y', b'y', b'n', b'n', b'n', b'y', b'n', b'y', b'y', b'y', b'n', b'n', b'republican'),\n",
       "       (b'y', b'n', b'y', b'n', b'n', b'n', b'y', b'y', b'y', b'y', b'n', b'y', b'n', b'n', b'y', b'y', b'democrat'),\n",
       "       (b'n', b'y', b'y', b'y', b'y', b'y', b'y', b'y', b'y', b'n', b'n', b'y', b'y', b'y', b'n', b'y', b'republican'),\n",
       "       (b'n', b'y', b'n', b'n', b'n', b'y', b'y', b'n', b'y', b'n', b'y', b'n', b'n', b'n', b'y', b'y', b'democrat'),\n",
       "       (b'n', b'n', b'y', b'y', b'y', b'y', b'y', b'y', b'y', b'y', b'n', b'y', b'y', b'y', b'y', b'y', b'republican'),\n",
       "       (b'n', b'y', b'n', b'y', b'n', b'y', b'y', b'y', b'y', b'n', b'y', b'n', b'y', b'n', b'y', b'y', b'democrat'),\n",
       "       (b'n', b'n', b'y', b'y', b'y', b'y', b'y', b'n', b'n', b'y', b'y', b'y', b'y', b'y', b'n', b'y', b'republican'),\n",
       "       (b'n', b'y', b'y', b'n', b'n', b'y', b'y', b'y', b'y', b'y', b'n', b'n', b'n', b'n', b'y', b'y', b'democrat'),\n",
       "       (b'y', b'n', b'y', b'y', b'n', b'n', b'n', b'y', b'y', b'y', b'n', b'n', b'n', b'y', b'y', b'y', b'republican'),\n",
       "       (b'n', b'n', b'n', b'y', b'y', b'y', b'n', b'n', b'n', b'n', b'n', b'y', b'y', b'y', b'n', b'n', b'republican'),\n",
       "       (b'n', b'n', b'n', b'y', b'y', b'y', b'n', b'n', b'n', b'n', b'n', b'y', b'y', b'y', b'n', b'n', b'republican'),\n",
       "       (b'y', b'y', b'y', b'n', b'n', b'y', b'y', b'y', b'y', b'y', b'y', b'y', b'y', b'y', b'n', b'y', b'democrat'),\n",
       "       (b'n', b'n', b'n', b'y', b'y', b'y', b'n', b'n', b'n', b'y', b'n', b'y', b'y', b'y', b'n', b'y', b'republican'),\n",
       "       (b'y', b'n', b'y', b'n', b'n', b'y', b'y', b'y', b'y', b'y', b'n', b'n', b'y', b'n', b'n', b'y', b'democrat'),\n",
       "       (b'y', b'n', b'y', b'n', b'y', b'y', b'y', b'n', b'y', b'y', b'n', b'n', b'y', b'y', b'n', b'y', b'democrat'),\n",
       "       (b'y', b'y', b'y', b'n', b'n', b'y', b'y', b'y', b'y', b'y', b'y', b'y', b'y', b'n', b'n', b'y', b'democrat'),\n",
       "       (b'y', b'y', b'n', b'y', b'y', b'y', b'n', b'n', b'n', b'y', b'y', b'n', b'y', b'n', b'n', b'n', b'republican'),\n",
       "       (b'y', b'y', b'n', b'y', b'y', b'y', b'n', b'n', b'n', b'n', b'y', b'n', b'y', b'y', b'n', b'y', b'republican'),\n",
       "       (b'n', b'y', b'n', b'n', b'y', b'y', b'n', b'n', b'n', b'y', b'y', b'n', b'y', b'y', b'n', b'n', b'democrat'),\n",
       "       (b'y', b'n', b'y', b'n', b'n', b'n', b'y', b'y', b'n', b'y', b'y', b'n', b'n', b'n', b'n', b'y', b'democrat'),\n",
       "       (b'y', b'y', b'y', b'n', b'y', b'y', b'y', b'y', b'n', b'y', b'y', b'n', b'n', b'n', b'y', b'y', b'democrat'),\n",
       "       (b'n', b'y', b'y', b'n', b'n', b'y', b'y', b'y', b'n', b'y', b'n', b'n', b'n', b'n', b'y', b'y', b'democrat'),\n",
       "       (b'n', b'y', b'n', b'y', b'y', b'y', b'n', b'n', b'n', b'n', b'n', b'n', b'y', b'y', b'n', b'y', b'republican'),\n",
       "       (b'y', b'y', b'y', b'n', b'y', b'y', b'y', b'y', b'n', b'y', b'n', b'n', b'n', b'n', b'y', b'y', b'democrat'),\n",
       "       (b'y', b'y', b'y', b'n', b'y', b'n', b'y', b'y', b'y', b'y', b'n', b'n', b'n', b'n', b'y', b'y', b'democrat'),\n",
       "       (b'n', b'y', b'y', b'y', b'y', b'y', b'n', b'n', b'n', b'n', b'y', b'y', b'y', b'y', b'n', b'n', b'democrat'),\n",
       "       (b'n', b'y', b'y', b'n', b'y', b'y', b'n', b'y', b'n', b'y', b'n', b'n', b'y', b'y', b'n', b'y', b'democrat'),\n",
       "       (b'n', b'y', b'n', b'y', b'y', b'y', b'n', b'n', b'n', b'n', b'n', b'y', b'y', b'y', b'n', b'y', b'republican'),\n",
       "       (b'n', b'y', b'n', b'y', b'y', b'y', b'n', b'n', b'n', b'n', b'y', b'y', b'n', b'y', b'n', b'n', b'democrat'),\n",
       "       (b'y', b'y', b'y', b'n', b'n', b'n', b'y', b'y', b'y', b'n', b'y', b'n', b'n', b'n', b'y', b'y', b'democrat'),\n",
       "       (b'n', b'y', b'n', b'y', b'y', b'y', b'y', b'y', b'n', b'n', b'n', b'n', b'y', b'y', b'n', b'y', b'republican'),\n",
       "       (b'n', b'n', b'n', b'y', b'y', b'y', b'n', b'n', b'n', b'n', b'n', b'y', b'y', b'y', b'n', b'y', b'republican'),\n",
       "       (b'n', b'n', b'n', b'y', b'y', b'y', b'n', b'n', b'n', b'n', b'n', b'y', b'y', b'y', b'n', b'y', b'republican'),\n",
       "       (b'y', b'y', b'y', b'n', b'n', b'y', b'y', b'y', b'y', b'n', b'y', b'n', b'y', b'n', b'y', b'y', b'democrat'),\n",
       "       (b'y', b'y', b'y', b'n', b'y', b'y', b'y', b'y', b'y', b'y', b'y', b'n', b'y', b'y', b'n', b'y', b'democrat'),\n",
       "       (b'y', b'y', b'n', b'y', b'y', b'y', b'n', b'n', b'n', b'n', b'y', b'n', b'y', b'y', b'n', b'y', b'democrat'),\n",
       "       (b'y', b'y', b'y', b'n', b'y', b'y', b'n', b'y', b'y', b'y', b'y', b'n', b'n', b'n', b'n', b'y', b'democrat'),\n",
       "       (b'y', b'y', b'y', b'y', b'y', b'y', b'n', b'n', b'n', b'n', b'y', b'y', b'y', b'y', b'n', b'y', b'democrat'),\n",
       "       (b'y', b'y', b'n', b'n', b'y', b'y', b'n', b'n', b'n', b'n', b'y', b'y', b'y', b'y', b'y', b'n', b'democrat'),\n",
       "       (b'n', b'y', b'y', b'n', b'y', b'y', b'n', b'y', b'n', b'n', b'y', b'n', b'n', b'n', b'n', b'y', b'democrat'),\n",
       "       (b'y', b'y', b'y', b'n', b'y', b'y', b'n', b'y', b'y', b'n', b'y', b'n', b'n', b'y', b'n', b'y', b'democrat'),\n",
       "       (b'n', b'y', b'y', b'y', b'y', b'y', b'n', b'n', b'n', b'n', b'n', b'y', b'y', b'y', b'n', b'y', b'democrat'),\n",
       "       (b'y', b'n', b'y', b'n', b'n', b'n', b'y', b'y', b'y', b'n', b'y', b'n', b'n', b'n', b'y', b'y', b'democrat'),\n",
       "       (b'n', b'y', b'n', b'n', b'y', b'y', b'y', b'n', b'n', b'n', b'y', b'y', b'n', b'y', b'n', b'y', b'democrat'),\n",
       "       (b'y', b'y', b'n', b'n', b'n', b'n', b'n', b'y', b'y', b'n', b'y', b'n', b'n', b'n', b'y', b'n', b'democrat'),\n",
       "       (b'y', b'y', b'n', b'y', b'y', b'y', b'n', b'n', b'n', b'n', b'y', b'y', b'y', b'y', b'n', b'y', b'republican'),\n",
       "       (b'n', b'y', b'y', b'n', b'n', b'y', b'n', b'y', b'y', b'n', b'n', b'y', b'y', b'n', b'n', b'y', b'republican'),\n",
       "       (b'y', b'y', b'y', b'n', b'y', b'y', b'n', b'n', b'n', b'n', b'y', b'n', b'y', b'n', b'n', b'y', b'democrat'),\n",
       "       (b'y', b'y', b'y', b'n', b'n', b'n', b'n', b'y', b'n', b'n', b'y', b'n', b'n', b'n', b'y', b'y', b'democrat'),\n",
       "       (b'y', b'y', b'y', b'n', b'y', b'y', b'n', b'y', b'n', b'n', b'y', b'n', b'y', b'n', b'y', b'y', b'democrat'),\n",
       "       (b'y', b'y', b'n', b'n', b'y', b'y', b'n', b'n', b'n', b'n', b'y', b'n', b'y', b'y', b'n', b'y', b'democrat'),\n",
       "       (b'n', b'y', b'y', b'n', b'y', b'y', b'n', b'y', b'n', b'n', b'n', b'n', b'n', b'n', b'n', b'y', b'democrat'),\n",
       "       (b'n', b'y', b'n', b'y', b'y', b'y', b'n', b'n', b'n', b'y', b'n', b'y', b'y', b'y', b'n', b'n', b'republican'),\n",
       "       (b'n', b'y', b'n', b'y', b'y', b'y', b'n', b'y', b'n', b'n', b'n', b'n', b'y', b'y', b'n', b'y', b'republican'),\n",
       "       (b'n', b'y', b'n', b'y', b'y', b'y', b'n', b'n', b'n', b'y', b'y', b'y', b'y', b'y', b'n', b'n', b'republican'),\n",
       "       (b'n', b'n', b'y', b'y', b'n', b'y', b'y', b'y', b'y', b'y', b'n', b'y', b'n', b'y', b'n', b'y', b'republican'),\n",
       "       (b'n', b'y', b'n', b'y', b'y', b'y', b'n', b'n', b'n', b'y', b'n', b'y', b'y', b'y', b'n', b'n', b'republican'),\n",
       "       (b'y', b'y', b'n', b'y', b'y', b'y', b'n', b'n', b'n', b'y', b'n', b'y', b'y', b'y', b'n', b'y', b'republican'),\n",
       "       (b'n', b'n', b'n', b'y', b'y', b'y', b'n', b'n', b'n', b'n', b'n', b'y', b'y', b'y', b'n', b'y', b'republican'),\n",
       "       (b'y', b'n', b'y', b'n', b'y', b'y', b'n', b'n', b'y', b'y', b'n', b'n', b'y', b'y', b'n', b'y', b'democrat'),\n",
       "       (b'n', b'n', b'n', b'y', b'y', b'y', b'n', b'n', b'n', b'n', b'y', b'y', b'y', b'y', b'n', b'n', b'democrat'),\n",
       "       (b'y', b'n', b'y', b'n', b'n', b'y', b'y', b'y', b'y', b'n', b'n', b'y', b'y', b'y', b'y', b'y', b'democrat'),\n",
       "       (b'n', b'n', b'n', b'y', b'y', b'y', b'n', b'n', b'n', b'n', b'n', b'y', b'y', b'y', b'n', b'n', b'republican'),\n",
       "       (b'n', b'n', b'n', b'y', b'y', b'y', b'n', b'n', b'n', b'n', b'y', b'y', b'y', b'y', b'n', b'y', b'republican'),\n",
       "       (b'y', b'n', b'y', b'n', b'n', b'y', b'y', b'y', b'y', b'y', b'y', b'n', b'n', b'n', b'n', b'y', b'democrat'),\n",
       "       (b'n', b'n', b'n', b'y', b'y', b'y', b'n', b'n', b'n', b'y', b'n', b'y', b'y', b'y', b'n', b'y', b'republican'),\n",
       "       (b'y', b'y', b'y', b'y', b'y', b'y', b'y', b'y', b'n', b'y', b'n', b'n', b'y', b'y', b'n', b'y', b'republican'),\n",
       "       (b'y', b'y', b'y', b'n', b'n', b'n', b'y', b'y', b'y', b'n', b'n', b'n', b'n', b'n', b'n', b'y', b'democrat'),\n",
       "       (b'n', b'y', b'y', b'n', b'n', b'y', b'y', b'y', b'n', b'y', b'n', b'n', b'n', b'n', b'n', b'y', b'democrat'),\n",
       "       (b'y', b'y', b'n', b'y', b'y', b'y', b'n', b'n', b'n', b'y', b'n', b'n', b'y', b'y', b'n', b'y', b'republican'),\n",
       "       (b'y', b'y', b'y', b'n', b'n', b'n', b'y', b'y', b'y', b'y', b'y', b'n', b'y', b'n', b'n', b'y', b'democrat'),\n",
       "       (b'y', b'y', b'y', b'n', b'n', b'n', b'y', b'y', b'n', b'y', b'n', b'n', b'n', b'n', b'n', b'y', b'democrat'),\n",
       "       (b'y', b'y', b'y', b'n', b'n', b'n', b'y', b'y', b'y', b'n', b'n', b'n', b'n', b'n', b'n', b'y', b'democrat'),\n",
       "       (b'y', b'y', b'y', b'y', b'y', b'y', b'y', b'y', b'n', b'y', b'n', b'n', b'y', b'y', b'n', b'y', b'republican'),\n",
       "       (b'n', b'y', b'y', b'n', b'y', b'y', b'y', b'y', b'n', b'n', b'y', b'n', b'y', b'n', b'y', b'y', b'democrat'),\n",
       "       (b'n', b'n', b'y', b'n', b'n', b'y', b'y', b'y', b'y', b'n', b'y', b'n', b'n', b'n', b'y', b'y', b'democrat'),\n",
       "       (b'n', b'y', b'y', b'n', b'n', b'y', b'y', b'y', b'y', b'n', b'y', b'n', b'n', b'y', b'y', b'y', b'democrat'),\n",
       "       (b'n', b'y', b'y', b'n', b'n', b'y', b'y', b'y', b'y', b'y', b'y', b'n', b'y', b'y', b'y', b'y', b'democrat'),\n",
       "       (b'n', b'n', b'y', b'n', b'n', b'n', b'y', b'y', b'n', b'y', b'y', b'n', b'n', b'n', b'y', b'y', b'democrat'),\n",
       "       (b'y', b'n', b'y', b'n', b'n', b'n', b'y', b'y', b'y', b'y', b'n', b'n', b'n', b'n', b'y', b'y', b'democrat'),\n",
       "       (b'n', b'n', b'n', b'y', b'y', b'y', b'y', b'y', b'n', b'y', b'n', b'y', b'y', b'y', b'n', b'y', b'republican'),\n",
       "       (b'n', b'y', b'y', b'n', b'n', b'n', b'y', b'y', b'y', b'y', b'n', b'n', b'y', b'n', b'y', b'y', b'democrat'),\n",
       "       (b'y', b'n', b'y', b'n', b'y', b'n', b'y', b'y', b'y', b'y', b'n', b'y', b'n', b'y', b'y', b'y', b'democrat'),\n",
       "       (b'n', b'n', b'y', b'y', b'y', b'y', b'n', b'n', b'y', b'y', b'n', b'y', b'y', b'y', b'n', b'y', b'republican'),\n",
       "       (b'n', b'n', b'y', b'n', b'n', b'n', b'y', b'y', b'y', b'y', b'n', b'n', b'n', b'n', b'n', b'y', b'democrat'),\n",
       "       (b'n', b'y', b'n', b'y', b'y', b'y', b'n', b'n', b'n', b'n', b'y', b'y', b'y', b'y', b'n', b'y', b'republican'),\n",
       "       (b'n', b'n', b'n', b'y', b'y', b'y', b'y', b'y', b'n', b'n', b'n', b'y', b'y', b'y', b'n', b'y', b'republican'),\n",
       "       (b'n', b'y', b'n', b'y', b'y', b'y', b'n', b'n', b'n', b'y', b'n', b'y', b'y', b'y', b'n', b'n', b'republican')],\n",
       "      dtype=[('handicapped-infants', 'S1'), ('water-project-cost-sharing', 'S1'), ('adoption-of-the-budget-resolution', 'S1'), ('physician-fee-freeze', 'S1'), ('el-salvador-aid', 'S1'), ('religious-groups-in-schools', 'S1'), ('anti-satellite-test-ban', 'S1'), ('aid-to-nicaraguan-contras', 'S1'), ('mx-missile', 'S1'), ('immigration', 'S1'), ('synfuels-corporation-cutback', 'S1'), ('education-spending', 'S1'), ('superfund-right-to-sue', 'S1'), ('crime', 'S1'), ('duty-free-exports', 'S1'), ('export-administration-act-south-africa', 'S1'), ('Class', 'S10')])"
      ]
     },
     "execution_count": 4,
     "metadata": {
      "tags": []
     },
     "output_type": "execute_result"
    }
   ],
   "source": [
    "np_data_from_scipy = np.array(data[0])\n",
    "np_data_from_scipy"
   ]
  },
  {
   "cell_type": "markdown",
   "metadata": {
    "id": "-U2O_gIzrwmR"
   },
   "source": [
    "## 2. Graphing\n",
    "\n",
    "Use [matplotlib](https://matplotlib.org/) to create graphs."
   ]
  },
  {
   "cell_type": "code",
   "execution_count": 4,
   "metadata": {
    "colab": {
     "base_uri": "https://localhost:8080/",
     "height": 312
    },
    "id": "oEbbEttVrfZe",
    "outputId": "3838906b-1ee0-42d7-e9b5-d3bf602ea76b"
   },
   "outputs": [
    {
     "name": "stdout",
     "output_type": "stream",
     "text": [
      "[[6.3200e-03 1.8000e+01 2.3100e+00 ... 1.5300e+01 3.9690e+02 4.9800e+00]\n",
      " [2.7310e-02 0.0000e+00 7.0700e+00 ... 1.7800e+01 3.9690e+02 9.1400e+00]\n",
      " [2.7290e-02 0.0000e+00 7.0700e+00 ... 1.7800e+01 3.9283e+02 4.0300e+00]\n",
      " ...\n",
      " [6.0760e-02 0.0000e+00 1.1930e+01 ... 2.1000e+01 3.9690e+02 5.6400e+00]\n",
      " [1.0959e-01 0.0000e+00 1.1930e+01 ... 2.1000e+01 3.9345e+02 6.4800e+00]\n",
      " [4.7410e-02 0.0000e+00 1.1930e+01 ... 2.1000e+01 3.9690e+02 7.8800e+00]]\n"
     ]
    },
    {
     "data": {
      "text/plain": [
       "<matplotlib.collections.PathCollection at 0x7ff17a1d69d0>"
      ]
     },
     "execution_count": 4,
     "metadata": {},
     "output_type": "execute_result"
    },
    {
     "data": {
      "image/png": "[encoded data removed]",
      "text/plain": [
       "<Figure size 432x288 with 1 Axes>"
      ]
     },
     "metadata": {
      "needs_background": "light"
     },
     "output_type": "display_data"
    }
   ],
   "source": [
    "import matplotlib.pyplot as plt\n",
    "import sklearn.datasets as data\n",
    "\n",
    "X, y = data.load_boston(return_X_y=True)\n",
    "# Always label your graphs appropriately\n",
    "plt.title('Boston Housing Prices')\n",
    "plt.xlabel('Number of rooms')\n",
    "plt.ylabel('Price in USD')\n",
    "print(X[:, 5])\n",
    "plt.scatter(X[:, 5], y)"
   ]
  },
  {
   "cell_type": "code",
   "execution_count": null,
   "metadata": {
    "colab": {
     "base_uri": "https://localhost:8080/",
     "height": 282
    },
    "id": "lv4dSc0LsZB-",
    "outputId": "6b948dd4-1359-437a-e86d-a41a327f6ac1"
   },
   "outputs": [
    {
     "data": {
      "text/plain": [
       "[<matplotlib.lines.Line2D at 0x7f5bd3fe2128>]"
      ]
     },
     "execution_count": 9,
     "metadata": {
      "tags": []
     },
     "output_type": "execute_result"
    },
    {
     "data": {
      "image/png": "[encoded data removed]",
      "text/plain": [
       "<Figure size 432x288 with 1 Axes>"
      ]
     },
     "metadata": {
      "needs_background": "light",
      "tags": []
     },
     "output_type": "display_data"
    }
   ],
   "source": [
    "# Line graph\n",
    "x = np.arange(0, 10)\n",
    "y = x*2\n",
    "plt.plot(x, y)"
   ]
  },
  {
   "cell_type": "code",
   "execution_count": null,
   "metadata": {
    "colab": {
     "base_uri": "https://localhost:8080/",
     "height": 336
    },
    "id": "yKybh_6Y1z7R",
    "outputId": "60a0a0a0-3c3d-4d97-ece5-f5ee7074856b"
   },
   "outputs": [
    {
     "data": {
      "image/png": "[encoded data removed]",
      "text/plain": [
       "<Figure size 432x288 with 1 Axes>"
      ]
     },
     "metadata": {
      "needs_background": "light",
      "tags": []
     },
     "output_type": "display_data"
    }
   ],
   "source": [
    "# Bar graph\n",
    "fig = plt.figure()\n",
    "ax = fig.add_axes([0,0,1,1])\n",
    "langs = ['C', 'C++', 'Java', 'Python', 'PHP']\n",
    "students = [23,17,35,29,12]\n",
    "ax.bar(langs,students)\n",
    "plt.show()"
   ]
  },
  {
   "cell_type": "markdown",
   "metadata": {
    "id": "XYmbQdzH46_x"
   },
   "source": [
    "## Tables"
   ]
  },
  {
   "cell_type": "markdown",
   "metadata": {
    "id": "LxJwNyDf5B3t"
   },
   "source": [
    "You can create tables in [markdown](https://www.markdownguide.org/extended-syntax/#tables) if you want.\n",
    "\n",
    "| Syntax      | Description |\n",
    "| ----------- | ----------- |\n",
    "| Header      | Title       |\n",
    "| Paragraph   | Text        |\n",
    "\n"
   ]
  },
  {
   "cell_type": "markdown",
   "metadata": {
    "id": "8EQfRna56JVZ"
   },
   "source": [
    "Or you can use [Tabulate](https://pypi.org/project/tabulate/)"
   ]
  },
  {
   "cell_type": "code",
   "execution_count": null,
   "metadata": {
    "colab": {
     "base_uri": "https://localhost:8080/"
    },
    "id": "-1nIJMv748ux",
    "outputId": "d2a5332b-ca6e-480b-d391-4a530ed351d2"
   },
   "outputs": [
    {
     "name": "stdout",
     "output_type": "stream",
     "text": [
      "-----  ------  -------------\n",
      "Sun    696000     1.9891e+09\n",
      "Earth    6371  5973.6\n",
      "Moon     1737    73.5\n",
      "Mars     3390   641.85\n",
      "-----  ------  -------------\n"
     ]
    }
   ],
   "source": [
    "# Tabulate also looks pretty good \n",
    "from tabulate import tabulate\n",
    "table = [[\"Sun\",696000,1989100000],[\"Earth\",6371,5973.6],\n",
    "          [\"Moon\",1737,73.5],[\"Mars\",3390,641.85]]\n",
    "print(tabulate(table))"
   ]
  }
 ],
 "metadata": {
  "colab": {
   "collapsed_sections": [],
   "name": "CS472 - Tutorial",
   "provenance": []
  },
  "kernelspec": {
   "display_name": "Python 3",
   "language": "python",
   "name": "python3"
  },
  "language_info": {
   "codemirror_mode": {
    "name": "ipython",
    "version": 3
   },
   "file_extension": ".py",
   "mimetype": "text/x-python",
   "name": "python",
   "nbconvert_exporter": "python",
   "pygments_lexer": "ipython3",
   "version": "3.8.3"
  }
 },
 "nbformat": 4,
 "nbformat_minor": 1
}
